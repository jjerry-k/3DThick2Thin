{
 "cells": [
  {
   "cell_type": "code",
   "execution_count": 1,
   "metadata": {},
   "outputs": [],
   "source": [
    "import os, tqdm, time, random\n",
    "import cv2 as cv\n",
    "import numpy as np\n",
    "import pandas as pd\n",
    "import nibabel as nib\n",
    "import tensorflow as tf\n",
    "from matplotlib import pyplot as plt\n",
    "from IPython.display import clear_output\n",
    "from tensorflow.keras import models, layers, losses, optimizers\n",
    "\n",
    "from loss import *\n",
    "from utils import *\n",
    "from metric import *\n",
    "from network import *\n",
    "\n",
    "random.seed(777)\n",
    "tf.set_random_seed(777)\n",
    "np.random.seed(777)\n",
    "\n"
   ]
  },
  {
   "cell_type": "code",
   "execution_count": null,
   "metadata": {},
   "outputs": [],
   "source": [
    "root_dir = '../data/for_section/'\n",
    "\n",
    "fold_idx = 1\n",
    "\n",
    "train_path = os.path.join(root_dir, 'for_fold_%d'%fold_idx)\n",
    "\n",
    "val_path = os.path.join(root_dir, 'for_fold_%d_val'%fold_idx)\n",
    "\n",
    "total = data_loader(train_path)\n",
    "\n",
    "data = []\n",
    "label = []\n",
    "n_size = 32\n",
    "n_slice = 16\n",
    "cs_strides = 16\n",
    "a_strides = 2\n",
    "\n",
    "#print(test.shape)\n",
    "\n",
    "for i in range(2):\n",
    "    test = total[i]\n",
    "    cor, sag, axi = test.shape\n",
    "    means = [test[idx:idx+n_size, jdx:jdx+n_size, kdx:kdx+(n_slice*6)].mean() \n",
    "             for idx in range(0, cor-n_size, cs_strides) \n",
    "             for jdx in range(0, sag-n_size, cs_strides) \n",
    "             for kdx in range(0, axi-(n_slice*6), a_strides)]\n",
    "\n",
    "\n",
    "    for idx in tqdm.tqdm_notebook(range(0, cor-n_size, cs_strides)):\n",
    "        for jdx in range(0, sag-n_size, cs_strides):\n",
    "            for kdx in range(0, axi-(n_slice*6), a_strides):\n",
    "                tmp = test[idx:idx+n_size, jdx:jdx+n_size, kdx:kdx+(n_slice*6)]\n",
    "                if tmp.mean() > np.mean(means)+10:\n",
    "                    label.append(tmp)\n",
    "                    tmp = np.array(np.dsplit(tmp, n_slice))\n",
    "                    tmp = tmp.mean(axis=-1)\n",
    "                    tmp = np.transpose(tmp, [1,2,0])\n",
    "                    data.append(tmp)\n",
    "                \n",
    "label = np.array(label)[..., np.newaxis]\n",
    "data = np.array(data)[..., np.newaxis]\n",
    "print(data.shape)\n",
    "print(label.shape)\n",
    "\n",
    "\n",
    "# Prepare Validation\n",
    "val_data = []\n",
    "val_label = []\n",
    "\n",
    "# Prepare Validation\n",
    "scan_list = sorted(os.listdir(val_path))[1:3]\n",
    "for scan in scan_list:\n",
    "    dante_path = os.path.join(val_path, scan, 'T1SPACE09mmISOPOSTwDANTE')\n",
    "    img_name = [i for i in os.listdir(dante_path) if '.nii' in i and '_rsl' not in i][0]\n",
    "    #print(img_name)\n",
    "    val = nib.load(os.path.join(dante_path, img_name))\n",
    "    val = check_data(val.get_data())\n",
    "\n",
    "cor, sag, axi = test.shape\n",
    "#print(test.shape)\n",
    "for idx in tqdm.tqdm_notebook(range(0, cor-n_size, cs_strides)):\n",
    "    for jdx in range(0, sag-n_size, cs_strides):\n",
    "        for kdx in range(0, axi-(n_slice*6), a_strides):\n",
    "            tmp = val[idx:idx+n_size, jdx:jdx+n_size, kdx:kdx+(n_slice*6)]\n",
    "#             means.append(tmp.mean())\n",
    "            if tmp.mean() > 225:\n",
    "                val_label.append(tmp)\n",
    "                tmp = np.array(np.dsplit(tmp, n_slice))\n",
    "                tmp = tmp.mean(axis=-1)\n",
    "                tmp = np.transpose(tmp, [1,2,0])\n",
    "                val_data.append(tmp)\n",
    "                \n",
    "val_label = np.array(val_label)[..., np.newaxis]\n",
    "val_data = np.array(val_data)[..., np.newaxis]\n",
    "print(val_data.shape)\n",
    "print(val_label.shape)"
   ]
  },
  {
   "cell_type": "code",
   "execution_count": 2,
   "metadata": {},
   "outputs": [
    {
     "name": "stdout",
     "output_type": "stream",
     "text": [
      "359\n",
      "59\n",
      "60\n",
      "60\n",
      "60\n",
      "60\n",
      "60\n",
      "449.3414619375159\n"
     ]
    },
    {
     "data": {
      "application/vnd.jupyter.widget-view+json": {
       "model_id": "752597c49f0a4480bc7274546e774f90",
       "version_major": 2,
       "version_minor": 0
      },
      "text/plain": [
       "HBox(children=(IntProgress(value=0, max=9), HTML(value='')))"
      ]
     },
     "metadata": {},
     "output_type": "display_data"
    },
    {
     "name": "stdout",
     "output_type": "stream",
     "text": [
      "\n",
      "543.6335396823721\n"
     ]
    },
    {
     "data": {
      "application/vnd.jupyter.widget-view+json": {
       "model_id": "bc723e30ad634f50b458c5638df07b39",
       "version_major": 2,
       "version_minor": 0
      },
      "text/plain": [
       "HBox(children=(IntProgress(value=0, max=10), HTML(value='')))"
      ]
     },
     "metadata": {},
     "output_type": "display_data"
    },
    {
     "name": "stdout",
     "output_type": "stream",
     "text": [
      "\n",
      "128.32333037240164\n"
     ]
    },
    {
     "data": {
      "application/vnd.jupyter.widget-view+json": {
       "model_id": "1c3f777891c94693bc9fb41c04510298",
       "version_major": 2,
       "version_minor": 0
      },
      "text/plain": [
       "HBox(children=(IntProgress(value=0, max=10), HTML(value='')))"
      ]
     },
     "metadata": {},
     "output_type": "display_data"
    },
    {
     "name": "stdout",
     "output_type": "stream",
     "text": [
      "\n",
      "84.75040168762206\n"
     ]
    },
    {
     "data": {
      "application/vnd.jupyter.widget-view+json": {
       "model_id": "aa1c92b4f8bc4387a5f963511e731d5a",
       "version_major": 2,
       "version_minor": 0
      },
      "text/plain": [
       "HBox(children=(IntProgress(value=0, max=12), HTML(value='')))"
      ]
     },
     "metadata": {},
     "output_type": "display_data"
    },
    {
     "name": "stdout",
     "output_type": "stream",
     "text": [
      "\n",
      "489.97346868226026\n"
     ]
    },
    {
     "data": {
      "application/vnd.jupyter.widget-view+json": {
       "model_id": "cf238bbd1eed4fa691ffb1d130d6249d",
       "version_major": 2,
       "version_minor": 0
      },
      "text/plain": [
       "HBox(children=(IntProgress(value=0, max=14), HTML(value='')))"
      ]
     },
     "metadata": {},
     "output_type": "display_data"
    },
    {
     "name": "stdout",
     "output_type": "stream",
     "text": [
      "\n",
      "1574.9824064659351\n"
     ]
    },
    {
     "data": {
      "application/vnd.jupyter.widget-view+json": {
       "model_id": "7171304c87664d789c89a8e2503b1193",
       "version_major": 2,
       "version_minor": 0
      },
      "text/plain": [
       "HBox(children=(IntProgress(value=0, max=11), HTML(value='')))"
      ]
     },
     "metadata": {},
     "output_type": "display_data"
    },
    {
     "name": "stdout",
     "output_type": "stream",
     "text": [
      "\n",
      "(32215, 32, 32, 16, 1)\n",
      "(32215, 32, 32, 96, 1)\n",
      "527.2531491915385\n"
     ]
    },
    {
     "data": {
      "application/vnd.jupyter.widget-view+json": {
       "model_id": "c4d64fc7f94e4bb3a0c745ec108fd13f",
       "version_major": 2,
       "version_minor": 0
      },
      "text/plain": [
       "HBox(children=(IntProgress(value=0, max=8), HTML(value='')))"
      ]
     },
     "metadata": {},
     "output_type": "display_data"
    },
    {
     "name": "stdout",
     "output_type": "stream",
     "text": [
      "\n",
      "347.0811875867708\n"
     ]
    },
    {
     "data": {
      "application/vnd.jupyter.widget-view+json": {
       "model_id": "67b95561a4e046a5bb9ce4ebe9774723",
       "version_major": 2,
       "version_minor": 0
      },
      "text/plain": [
       "HBox(children=(IntProgress(value=0, max=10), HTML(value='')))"
      ]
     },
     "metadata": {},
     "output_type": "display_data"
    },
    {
     "name": "stdout",
     "output_type": "stream",
     "text": [
      "\n",
      "118.36389762515113\n"
     ]
    },
    {
     "data": {
      "application/vnd.jupyter.widget-view+json": {
       "model_id": "ab202b1f3cae4b66bc72267095401f0b",
       "version_major": 2,
       "version_minor": 0
      },
      "text/plain": [
       "HBox(children=(IntProgress(value=0, max=10), HTML(value='')))"
      ]
     },
     "metadata": {},
     "output_type": "display_data"
    },
    {
     "name": "stdout",
     "output_type": "stream",
     "text": [
      "\n",
      "77.88824086567712\n"
     ]
    },
    {
     "data": {
      "application/vnd.jupyter.widget-view+json": {
       "model_id": "0cc1a66c0bec4e3f953fc74c8035d52d",
       "version_major": 2,
       "version_minor": 0
      },
      "text/plain": [
       "HBox(children=(IntProgress(value=0, max=12), HTML(value='')))"
      ]
     },
     "metadata": {},
     "output_type": "display_data"
    },
    {
     "name": "stdout",
     "output_type": "stream",
     "text": [
      "\n",
      "533.4566154347871\n"
     ]
    },
    {
     "data": {
      "application/vnd.jupyter.widget-view+json": {
       "model_id": "8ff68059903948018b5bd77f5bc7a446",
       "version_major": 2,
       "version_minor": 0
      },
      "text/plain": [
       "HBox(children=(IntProgress(value=0, max=14), HTML(value='')))"
      ]
     },
     "metadata": {},
     "output_type": "display_data"
    },
    {
     "name": "stdout",
     "output_type": "stream",
     "text": [
      "\n",
      "1582.045390747716\n"
     ]
    },
    {
     "data": {
      "application/vnd.jupyter.widget-view+json": {
       "model_id": "c187bb24eebe4c189b8e57ae1873a1a5",
       "version_major": 2,
       "version_minor": 0
      },
      "text/plain": [
       "HBox(children=(IntProgress(value=0, max=9), HTML(value='')))"
      ]
     },
     "metadata": {},
     "output_type": "display_data"
    },
    {
     "name": "stdout",
     "output_type": "stream",
     "text": [
      "\n",
      "(8074, 32, 32, 16, 1)\n",
      "(8074, 32, 32, 96, 1)\n"
     ]
    }
   ],
   "source": [
    "data_root = '../data/Original/'\n",
    "data_lists = sorted(os.listdir(data_root))\n",
    "ph15_lists = [i for i in data_lists if '_philips_15' in i]\n",
    "ph3_lists = [i for i in data_lists if '_philips_3' in i]\n",
    "si15_lists = [i for i in data_lists if '_siemens_15' in i]\n",
    "si3_lists = [i for i in data_lists if '_siemens_3' in i]\n",
    "ge15_lists = [i for i in data_lists if '_ge_15' in i]\n",
    "ge3_lists = [i for i in data_lists if '_ge_3' in i]\n",
    "\n",
    "train_list = ['CC0001', 'CC0060', 'CC0120', 'CC0180', 'CC0241', 'CC0300']\n",
    "\n",
    "val_list = ['CC0002', 'CC0061', 'CC0121', 'CC0181', 'CC0242', 'CC0301']\n",
    "\n",
    "print(len(data_lists))\n",
    "print(len(ph15_lists))\n",
    "print(len(ph3_lists))\n",
    "print(len(ge15_lists))\n",
    "print(len(ge3_lists))\n",
    "print(len(si15_lists))\n",
    "print(len(si3_lists))\n",
    "\n",
    "train_img = {name : nib.load(os.path.join(data_root, name)).get_data().astype(np.uint16) \n",
    "             for name in data_lists if name.split('_')[0] in train_list}\n",
    "\n",
    "\n",
    "data = []\n",
    "label = []\n",
    "n_size = 32\n",
    "n_slice = 16\n",
    "cs_strides = 16\n",
    "a_strides = 2\n",
    "\n",
    "#print(test.shape)\n",
    "\n",
    "for i in train_img:\n",
    "    test = train_img[i]\n",
    "    cor, sag, axi = test.shape\n",
    "    means = [test[idx:idx+n_size, jdx:jdx+n_size, kdx:kdx+(n_slice*6)].mean() \n",
    "             for idx in range(0, cor-n_size, cs_strides) \n",
    "             for jdx in range(0, sag-n_size, cs_strides) \n",
    "             for kdx in range(0, axi-(n_slice*6), a_strides)]\n",
    "    print(np.mean(means))\n",
    "    for idx in tqdm.tqdm_notebook(range(0, cor-n_size, cs_strides)):\n",
    "        for jdx in range(0, sag-n_size, cs_strides):\n",
    "            for kdx in range(0, axi-(n_slice*6), a_strides):\n",
    "                tmp = test[idx:idx+n_size, jdx:jdx+n_size, kdx:kdx+(n_slice*6)]\n",
    "                if tmp.mean() > np.mean(means)+10:\n",
    "                    label.append(tmp)\n",
    "                    tmp = np.array(np.dsplit(tmp, n_slice))\n",
    "                    tmp = tmp.mean(axis=-1)\n",
    "                    tmp = np.transpose(tmp, [1,2,0])\n",
    "                    data.append(tmp)\n",
    "                \n",
    "label = np.array(label)[..., np.newaxis]\n",
    "data = np.array(data)[..., np.newaxis]\n",
    "print(data.shape)\n",
    "print(label.shape)\n",
    "\n",
    "val_img = {name : nib.load(os.path.join(data_root, name)).get_data().astype(np.uint16) \n",
    "             for name in data_lists if name.split('_')[0] in val_list}\n",
    "\n",
    "\n",
    "val_data = []\n",
    "val_label = []\n",
    "cs_strides = 16\n",
    "a_strides = 8\n",
    "#print(test.shape)\n",
    "\n",
    "for i in val_img:\n",
    "    test = val_img[i]\n",
    "    cor, sag, axi = test.shape\n",
    "    means = [test[idx:idx+n_size, jdx:jdx+n_size, kdx:kdx+(n_slice*6)].mean() \n",
    "             for idx in range(0, cor-n_size, cs_strides) \n",
    "             for jdx in range(0, sag-n_size, cs_strides) \n",
    "             for kdx in range(0, axi-(n_slice*6), a_strides)]\n",
    "    print(np.mean(means))\n",
    "    for idx in tqdm.tqdm_notebook(range(0, cor-n_size, cs_strides)):\n",
    "        for jdx in range(0, sag-n_size, cs_strides):\n",
    "            for kdx in range(0, axi-(n_slice*6), a_strides):\n",
    "                tmp = test[idx:idx+n_size, jdx:jdx+n_size, kdx:kdx+(n_slice*6)]\n",
    "                if tmp.mean() > np.mean(means)+10:\n",
    "                    val_label.append(tmp)\n",
    "                    tmp = np.array(np.dsplit(tmp, n_slice))\n",
    "                    tmp = tmp.mean(axis=-1)\n",
    "                    tmp = np.transpose(tmp, [1,2,0])\n",
    "                    val_data.append(tmp)\n",
    "                \n",
    "val_label = np.array(val_label)[..., np.newaxis]\n",
    "val_data = np.array(val_data)[..., np.newaxis]\n",
    "print(val_data.shape)\n",
    "print(val_label.shape)"
   ]
  },
  {
   "cell_type": "code",
   "execution_count": 5,
   "metadata": {},
   "outputs": [],
   "source": [
    "G = SR3D(layer_activation='leaky_relu', \n",
    "             name='3D_SR_Gen')\n",
    "D = dis3D(name='3D_SR_Dis')\n",
    "\n",
    "D.compile(optimizer=optimizers.Adam(lr=0.0001, epsilon=1e-8), loss=losses.binary_crossentropy)\n",
    "\n",
    "D.trainable=False\n",
    "\n",
    "A = models.Model(inputs=G.input, outputs = [G.output, D(G.input)], name='GAN')\n",
    "A.compile(optimizer=optimizers.Adam(lr=0.0001, epsilon=1e-8), loss=[mse_grad_loss, losses.binary_crossentropy], \n",
    "          loss_weights=[10, 1], metrics={'3D_SR_Gen_output_act':[mutual_information, gradient_3d_loss, psnr]})\n",
    "\n"
   ]
  },
  {
   "cell_type": "code",
   "execution_count": 6,
   "metadata": {},
   "outputs": [
    {
     "name": "stdout",
     "output_type": "stream",
     "text": [
      "\n",
      "Make Save Directory!\n",
      "\n",
      "\n",
      "Make Save Directory!\n",
      "\n",
      "\n",
      "Model Saved!\n",
      "\n"
     ]
    }
   ],
   "source": [
    "date = time.ctime().split(' ')\n",
    "\n",
    "ckpt_root = './checkpoint/%s_%02d_%s/DeepSRGAN_msegrad_CC_6data'%(date[1], int(date[2]), date[-1])\n",
    "result_root = './result/%s_%02d_%s/DeepSRGAN_msegrad_CC_6data'%(date[1], int(date[2]), date[-1])\n",
    "\n",
    "try:\n",
    "    os.makedirs(ckpt_root)\n",
    "    print(\"\\nMake Save Directory!\\n\")\n",
    "except:\n",
    "    print(\"\\nDirectory Already Exist!\\n\")\n",
    "\n",
    "try:\n",
    "    os.makedirs(result_root)\n",
    "    print(\"\\nMake Save Directory!\\n\")\n",
    "except:\n",
    "    print(\"\\nDirectory Already Exist!\\n\")\n",
    "    \n",
    "\n",
    "model_json = A.to_json()\n",
    "with open(os.path.join(ckpt_root, \"model.json\"), \"w\") as json_file:\n",
    "    json_file.write(model_json)\n",
    "print(\"\\nModel Saved!\\n\")"
   ]
  },
  {
   "cell_type": "code",
   "execution_count": 7,
   "metadata": {},
   "outputs": [],
   "source": [
    "epochs=100\n",
    "batch_size = 4\n",
    "train_length = len(data)\n",
    "val_length = len(val_data)\n",
    "num_iter = int(np.ceil(train_length/batch_size))\n",
    "num_val_iter = int(np.ceil(val_length/batch_size))"
   ]
  },
  {
   "cell_type": "code",
   "execution_count": 8,
   "metadata": {},
   "outputs": [
    {
     "data": {
      "image/png": "[encoded data removed]",
      "text/plain": [
       "<Figure size 432x288 with 1 Axes>"
      ]
     },
     "metadata": {
      "needs_background": "light"
     },
     "output_type": "display_data"
    },
    {
     "name": "stdout",
     "output_type": "stream",
     "text": [
      "Saved Model with 470218.44996!\n"
     ]
    }
   ],
   "source": [
    "train_loss = {\"Generator_Total\" : [], \"Generator_Style\" : [], \"Generator_AD\" : [], \"mi\": [], \"mse\": [], \"grad\": [], \"psnr\": [], \"Discriminator_AD\" : []}\n",
    "val_loss = {\"Generator_Total\" : [], \"Generator_Style\" : [], \"Generator_AD\" : [], \"mi\": [], \"mse\": [], \"grad\": [], \"psnr\": []}\n",
    "top_gen_loss = float('inf')\n",
    "stop_patience = 5\n",
    "stop_cnt = 0\n",
    "save_patience = 2\n",
    "save_cnt = 0\n",
    "top_epoch = 0\n",
    "prev_val_loss = 0\n",
    "prev_val_mi = 0\n",
    "prev_val_grad = 0\n",
    "prev_val_psnr = 0\n",
    "\n",
    "\n",
    "for epoch in range(epochs):\n",
    "    epoch_t_g_total = 0\n",
    "    epoch_t_g_style = 0\n",
    "    epoch_t_g_dis = 0\n",
    "    epoch_t_d_dis = 0\n",
    "    epoch_t_mse = 0\n",
    "    epoch_t_mi = 0\n",
    "    epoch_t_grad = 0\n",
    "    epoch_t_psnr = 0\n",
    "    \n",
    "    shuffle_idx = np.random.choice(train_length, train_length, replace=False)\n",
    "    for i, step in enumerate(range(0, train_length, batch_size)):\n",
    "\n",
    "        #print(step, shuffle_idx[step:step+batch_size])\n",
    "\n",
    "        # Generate fake images\n",
    "        step_idx = shuffle_idx[step:step+batch_size]\n",
    "        fake_imgs = G.predict(data[step_idx])\n",
    "\n",
    "        # Train Discriminator\n",
    "        dis_input = np.concatenate([fake_imgs, label[step_idx]])\n",
    "        dis_label =np.concatenate([np.zeros((len(step_idx), 1)),\n",
    "                                 np.ones((len(step_idx), 1))])\n",
    "        Dis_Loss = D.train_on_batch(dis_input, dis_label)\n",
    "\n",
    "        # Train Generator\n",
    "        Gan_Loss = A.train_on_batch(data[step_idx], [label[step_idx], np.ones((len(step_idx), 1))])\n",
    "        \n",
    "        epoch_t_g_total += Gan_Loss[0]\n",
    "        epoch_t_g_style += Gan_Loss[-5]\n",
    "        epoch_t_g_dis += Gan_Loss[-4]\n",
    "        epoch_t_mse += np.mean(np.square(fake_imgs-label[step_idx]))\n",
    "        epoch_t_mi += Gan_Loss[-3]\n",
    "        epoch_t_grad += Gan_Loss[-2]\n",
    "        epoch_t_psnr += Gan_Loss[-1]\n",
    "        epoch_t_d_dis += Dis_Loss\n",
    "        \n",
    "        clear_output(wait=True)\n",
    "        plt.plot(train_loss[\"Generator_Style\"], '.-')    \n",
    "        plt.plot(val_loss[\"Generator_Style\"], '.-')\n",
    "        #plt.suptitle('Epoch : {}/{}, Step : {}/{}'.format())\n",
    "        plt.title(\"Epoch : %d/%d, Step : %d/%d\\nGen Loss : %.5f, Val gen loss : %.5f\\n\\\n",
    "                    Gen MI : %.5f, Val MI : %.5f\\nGen Grad : %.5f, Val Grad : %.5f\\n\\\n",
    "                    Gen PSNR : %.5f, Val PSNR : %.5f\"\n",
    "                  %(epoch, epochs, step, train_length, \n",
    "                    epoch_t_g_style/(i+1), prev_val_loss, \n",
    "                    epoch_t_mi/(i+1), prev_val_mi, \n",
    "                    epoch_t_grad/(i+1), prev_val_grad, \n",
    "                    epoch_t_psnr/(i+1), prev_val_psnr))\n",
    "        plt.legend(['train', 'validation'], loc='upper right')\n",
    "        plt.show()\n",
    "    \n",
    "    train_loss[\"Generator_Total\"].append(epoch_t_g_total/num_iter)\n",
    "    train_loss[\"Generator_Style\"].append(epoch_t_g_style/num_iter)\n",
    "    train_loss[\"Generator_AD\"].append(epoch_t_g_dis/num_iter)\n",
    "    train_loss[\"Discriminator_AD\"].append(epoch_t_d_dis/num_iter)\n",
    "    train_loss[\"mse\"].append(epoch_t_mse/num_iter)\n",
    "    train_loss[\"mi\"].append(epoch_t_mi/num_iter)\n",
    "    train_loss[\"grad\"].append(epoch_t_grad/num_iter)\n",
    "    train_loss[\"psnr\"].append(epoch_t_psnr/num_iter)\n",
    "    \n",
    "    \n",
    "    epoch_v_g_total = 0\n",
    "    epoch_v_g_style = 0\n",
    "    epoch_v_g_dis = 0\n",
    "    epoch_v_mse = 0\n",
    "    epoch_v_mi = 0\n",
    "    epoch_v_grad = 0\n",
    "    epoch_v_psnr = 0\n",
    "    \n",
    "    for j, val_idx in enumerate(range(0, val_length, batch_size)):\n",
    "        #val_idx = j\n",
    "        val_y2 = np.ones([len(val_data[val_idx:val_idx+batch_size]), 1])\n",
    "        #print(j, val_idx, len(val_data[val_idx:val_idx+batch_size]))\n",
    "        V_loss = A.test_on_batch(val_data[val_idx:val_idx+batch_size], \n",
    "                                           [val_label[val_idx:val_idx+batch_size], val_y2])\n",
    "        V_output, _= A.predict(val_data[val_idx:val_idx+batch_size])\n",
    "        #print(\"Validation Inference\")\n",
    "        epoch_v_g_total += V_loss[0]\n",
    "        epoch_v_g_style += V_loss[-5]\n",
    "        epoch_v_g_dis += V_loss[-4]\n",
    "        epoch_v_mse += np.mean(np.square(V_output-val_label[val_idx:val_idx+batch_size]))\n",
    "        epoch_v_mi += V_loss[-3]\n",
    "        epoch_v_grad += V_loss[-2]\n",
    "        epoch_v_psnr += V_loss[-1]\n",
    "    \n",
    "    val_loss[\"Generator_Total\"].append(epoch_v_g_total/num_val_iter)\n",
    "    val_loss[\"Generator_Style\"].append(epoch_v_g_style/num_val_iter)\n",
    "    val_loss[\"Generator_AD\"].append(epoch_v_g_dis/num_val_iter)\n",
    "    val_loss[\"mse\"].append(epoch_v_mse/num_val_iter)\n",
    "    val_loss[\"mi\"].append(epoch_v_mi/num_val_iter)\n",
    "    val_loss[\"grad\"].append(epoch_v_grad/num_val_iter)\n",
    "    val_loss[\"psnr\"].append(epoch_v_psnr/num_val_iter)\n",
    "    \n",
    "    mean_val_loss = epoch_v_g_style/num_val_iter\n",
    "    prev_val_loss = mean_val_loss\n",
    "    prev_val_mi = epoch_v_mi/num_val_iter\n",
    "    prev_val_grad = epoch_v_grad/num_val_iter\n",
    "    prev_val_psnr = epoch_v_psnr/num_val_iter\n",
    "    \n",
    "    # Saving Phase\n",
    "    if mean_val_loss < top_gen_loss:\n",
    "        stop_cnt = 0\n",
    "        top_gen_loss = mean_val_loss\n",
    "        if epoch == 0: \n",
    "            A.save_weights(os.path.join(ckpt_root, \"%05d_%.4f_%.4f.h5\"%(epoch+1, epoch_t_g_style/num_iter, top_gen_loss)))\n",
    "            top_epoch = epoch\n",
    "        elif top_epoch + save_patience > epoch : pass\n",
    "        else:\n",
    "            A.save_weights(os.path.join(ckpt_root, \"%05d_%.4f_%.4f.h5\"%(epoch+1, epoch_t_g_style/num_iter, top_gen_loss)))\n",
    "            top_epoch = epoch\n",
    "    else:\n",
    "        stop_cnt+=1\n",
    "    \n",
    "    if stop_cnt == stop_patience : break\n",
    "\n",
    "print(\"Saved Model with %.5f!\"%top_gen_loss)\n",
    "\n",
    "train_df = pd.DataFrame(train_loss)\n",
    "train_df.to_csv(os.path.join(result_root,'train_loss.csv'))\n",
    "\n",
    "val_df = pd.DataFrame(val_loss)\n",
    "val_df.to_csv(os.path.join(result_root, 'val_loss.csv'))"
   ]
  },
  {
   "cell_type": "code",
   "execution_count": null,
   "metadata": {},
   "outputs": [],
   "source": [
    "scan_list = sorted(os.listdir(val_path))[1:]\n",
    "for scan in scan_list:\n",
    "    dante_path = os.path.join(val_path, scan, 'T1SPACE09mmISOPOSTwDANTE')\n",
    "    img_name = [i for i in os.listdir(dante_path) if '.nii' in i and '_rsl' not in i][0]\n",
    "    #print(img_name)\n",
    "    val = nib.load(os.path.join(dante_path, img_name))\n",
    "    val = check_data(val.get_data())\n",
    "    \n",
    "test_in = []\n",
    "cor, sag, axi = val.shape\n",
    "tmp = np.array(np.dsplit(val, axi//6))\n",
    "tmp = tmp.mean(axis=-1)\n",
    "tmp = np.transpose(tmp, [1, 2, 0])\n",
    "\n",
    "#half_top = int(np.floor(tmp.shape[-1]/2))\n",
    "#half_bot = int(np.ceil(tmp.shape[-1]/2))"
   ]
  },
  {
   "cell_type": "code",
   "execution_count": null,
   "metadata": {},
   "outputs": [],
   "source": [
    "recon = np.zeros(shape=[cor, sag, axi])\n",
    "\n",
    "slice_dict = {\n",
    "    1:[[0, 160], [0, 160], [0, 128], [0, 128]], \n",
    "    2:[[0, 160], [96, 256], [0, 128], [32, 256]], \n",
    "    3:[[96, 256], [0, 160], [32, 256], [0, 128]],\n",
    "    4:[[96, 256], [96, 256], [32, 256], [32, 256]]\n",
    "}\n",
    "test = {}\n",
    "sli = 12\n",
    "i = 0\n",
    "for row in range(2):\n",
    "    row_start = row*128\n",
    "    for col in range(2):\n",
    "        \n",
    "        col_start = col*128\n",
    "        print(i, row_start, col_start)\n",
    "        test[i] = G.predict(tmp[np.newaxis, \n",
    "                                   slice_dict[i+1][0][0]:slice_dict[i+1][0][1],\n",
    "                                   slice_dict[i+1][1][0]:slice_dict[i+1][1][1],\n",
    "                                   :, np.newaxis])\n",
    "        recon[row_start:row_start+128, \n",
    "              col_start:col_start+128] = test[i][0,\n",
    "                                                  slice_dict[i+1][2][0]:slice_dict[i+1][2][1],\n",
    "                                                  slice_dict[i+1][3][0]:slice_dict[i+1][3][1], :, 0]\n",
    "        i += 1\n",
    "# test_3d_2 = net.predict(tmp[np.newaxis, ..., half_top:, np.newaxis])"
   ]
  },
  {
   "cell_type": "code",
   "execution_count": null,
   "metadata": {},
   "outputs": [],
   "source": [
    "aff = np.eye(4)\n",
    "aff[2, 2]=6\n",
    "\n",
    "nib.save(nib.Nifti1Image(tmp, aff), os.path.join(result_root, 'val_input.nii'))\n",
    "nib.save(nib.Nifti1Image(recon, np.eye(4)), os.path.join(result_root, 'val_pred.nii'))\n",
    "nib.save(nib.Nifti1Image(val, np.eye(4)), os.path.join(result_root, 'val_label.nii'))"
   ]
  }
 ],
 "metadata": {
  "kernelspec": {
   "display_name": "tensorflow",
   "language": "python",
   "name": "tf"
  },
  "language_info": {
   "codemirror_mode": {
    "name": "ipython",
    "version": 3
   },
   "file_extension": ".py",
   "mimetype": "text/x-python",
   "name": "python",
   "nbconvert_exporter": "python",
   "pygments_lexer": "ipython3",
   "version": "3.7.3"
  }
 },
 "nbformat": 4,
 "nbformat_minor": 4
}
