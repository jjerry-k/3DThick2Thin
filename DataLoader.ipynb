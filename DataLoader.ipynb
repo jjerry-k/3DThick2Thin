{
 "cells": [
  {
   "cell_type": "code",
   "execution_count": 1,
   "metadata": {},
   "outputs": [],
   "source": [
    "import os, tqdm\n",
    "import cv2 as cv\n",
    "import numpy as np\n",
    "import nibabel as nib"
   ]
  },
  {
   "cell_type": "code",
   "execution_count": 4,
   "metadata": {},
   "outputs": [],
   "source": [
    "root_dir = '../data/for_section/'\n",
    "\n",
    "fold_idx = 1\n",
    "\n",
    "train_path = os.path.join(root_dir, 'for_fold_%d'%fold_idx)\n",
    "\n",
    "\n",
    "val_path = os.path.join(root_dir, 'for_fold_%d_val'%fold_idx)"
   ]
  },
  {
   "cell_type": "code",
   "execution_count": 20,
   "metadata": {},
   "outputs": [],
   "source": [
    "def check_data(img):\n",
    "    output = None\n",
    "    num_use = img.shape[-1]//6*6\n",
    "    num_trash = img.shape[-1]%6\n",
    "    num_bot = np.ceil(num_trash/2).astype(np.int8)\n",
    "    num_top = np.floor(num_trash/2).astype(np.int8)\n",
    "    check = 2*num_bot+num_top\n",
    "    if check == 0:\n",
    "        output = img\n",
    "    elif check == 2:\n",
    "        output = img[..., num_bot:]\n",
    "    else :    \n",
    "        output = img[...,num_bot:-(num_top)]\n",
    "    return output\n",
    "\n",
    "def data_loader(path):\n",
    "    scan_list = sorted(os.listdir(path))[1:]\n",
    "    for scan in scan_list:\n",
    "        dante_path = os.path.join(path, scan, 'T1SPACE09mmISOPOSTwDANTE')\n",
    "        img_name = [i for i in os.listdir(dante_path) if '.nii' in i and '_rsl' not in i][0]\n",
    "        #print(img_name)\n",
    "        img = nib.load(os.path.join(dante_path, img_name))\n",
    "        img = img.get_data()\n",
    "    return check_data(img)"
   ]
  },
  {
   "cell_type": "code",
   "execution_count": 21,
   "metadata": {},
   "outputs": [],
   "source": [
    "test = data_loader(train_path)"
   ]
  }
 ],
 "metadata": {
  "kernelspec": {
   "display_name": "tensorflow",
   "language": "python",
   "name": "tf"
  },
  "language_info": {
   "codemirror_mode": {
    "name": "ipython",
    "version": 3
   },
   "file_extension": ".py",
   "mimetype": "text/x-python",
   "name": "python",
   "nbconvert_exporter": "python",
   "pygments_lexer": "ipython3",
   "version": "3.7.3"
  }
 },
 "nbformat": 4,
 "nbformat_minor": 4
}
