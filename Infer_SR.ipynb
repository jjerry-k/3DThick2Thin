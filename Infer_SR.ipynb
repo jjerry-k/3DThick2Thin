{
 "cells": [
  {
   "cell_type": "code",
   "execution_count": 1,
   "metadata": {},
   "outputs": [],
   "source": [
    "import os, tqdm, time, random\n",
    "import cv2 as cv\n",
    "import numpy as np\n",
    "import pandas as pd\n",
    "import nibabel as nib\n",
    "import tensorflow as tf\n",
    "from matplotlib import pyplot as plt\n",
    "from tensorflow.keras import models, layers, losses, optimizers\n",
    "\n",
    "from loss import *\n",
    "from utils import *\n",
    "from network import *\n",
    "\n",
    "random.seed(777)\n",
    "tf.set_random_seed(777)\n",
    "np.random.seed(777)"
   ]
  },
  {
   "cell_type": "code",
   "execution_count": 2,
   "metadata": {},
   "outputs": [],
   "source": [
    "root_dir = '../data/for_section/'\n",
    "\n",
    "fold_idx = 1\n",
    "\n",
    "train_path = os.path.join(root_dir, 'for_fold_%d'%fold_idx)\n",
    "\n",
    "val_path = os.path.join(root_dir, 'for_fold_%d_val'%fold_idx)"
   ]
  },
  {
   "cell_type": "code",
   "execution_count": 3,
   "metadata": {},
   "outputs": [],
   "source": [
    "test = data_loader(train_path)"
   ]
  },
  {
   "cell_type": "code",
   "execution_count": 4,
   "metadata": {},
   "outputs": [
    {
     "data": {
      "application/vnd.jupyter.widget-view+json": {
       "model_id": "b93de552b4954f3ea91b0392eddc6278",
       "version_major": 2,
       "version_minor": 0
      },
      "text/plain": [
       "HBox(children=(IntProgress(value=0, max=14), HTML(value='')))"
      ]
     },
     "metadata": {},
     "output_type": "display_data"
    },
    {
     "name": "stdout",
     "output_type": "stream",
     "text": [
      "\n",
      "(3317, 32, 32, 16, 1)\n",
      "(3317, 32, 32, 96, 1)\n"
     ]
    }
   ],
   "source": [
    "data = []\n",
    "label = []\n",
    "n_size = 32\n",
    "n_slice = 16\n",
    "cs_strides = 16\n",
    "a_strides = 2\n",
    "cnt = 0\n",
    "cor, sag, axi = test.shape\n",
    "#print(test.shape)\n",
    "for idx in tqdm.tqdm_notebook(range(0, cor-n_size, cs_strides)):\n",
    "    for jdx in range(0, sag-n_size, cs_strides):\n",
    "        for kdx in range(0, axi-(n_slice*6), a_strides):\n",
    "            tmp = test[idx:idx+n_size, jdx:jdx+n_size, kdx:kdx+(n_slice*6)]\n",
    "            if tmp.mean() > 225:\n",
    "                label.append(tmp)\n",
    "                tmp = np.array(np.dsplit(tmp, n_slice))\n",
    "                tmp = tmp.mean(axis=-1)\n",
    "                tmp = np.transpose(tmp, [1,2,0])\n",
    "                data.append(tmp)\n",
    "                \n",
    "label = np.array(label)[..., np.newaxis]\n",
    "data = np.array(data)[..., np.newaxis]\n",
    "print(data.shape)\n",
    "print(label.shape)"
   ]
  },
  {
   "cell_type": "code",
   "execution_count": 24,
   "metadata": {},
   "outputs": [
    {
     "name": "stdout",
     "output_type": "stream",
     "text": [
      "\n",
      "Model Read!\n",
      "\n"
     ]
    }
   ],
   "source": [
    "date = time.ctime().split(' ')\n",
    "\n",
    "mon = 'Sep'\n",
    "day = 17\n",
    "year = 2019\n",
    "residual_channels = 64\n",
    "ckpt_root = './checkpoint/%s_%02d_%d/RBSR%d_msegrad_test'%(mon, day, year, residual_channels)\n",
    "result_root = './result/%s_%02d_%d/RBSR%d_msegrad_test'%(mon, day, year, residual_channels)\n",
    "\n",
    "with open(os.path.join(ckpt_root, \"model.json\"), \"r\") as json_file:\n",
    "    model_json = json_file.read()\n",
    "print(\"\\nModel Read!\\n\")"
   ]
  },
  {
   "cell_type": "code",
   "execution_count": 8,
   "metadata": {},
   "outputs": [
    {
     "name": "stderr",
     "output_type": "stream",
     "text": [
      "WARNING: Logging before flag parsing goes to stderr.\n",
      "W0919 04:56:29.202686 139930111289088 deprecation.py:506] From /root/miniconda3/envs/tf/lib/python3.7/site-packages/tensorflow/python/ops/init_ops.py:97: calling GlorotUniform.__init__ (from tensorflow.python.ops.init_ops) with dtype is deprecated and will be removed in a future version.\n",
      "Instructions for updating:\n",
      "Call initializer instance with the dtype argument instead of passing it to the constructor\n",
      "W0919 04:56:29.203863 139930111289088 deprecation.py:506] From /root/miniconda3/envs/tf/lib/python3.7/site-packages/tensorflow/python/ops/init_ops.py:1251: calling VarianceScaling.__init__ (from tensorflow.python.ops.init_ops) with dtype is deprecated and will be removed in a future version.\n",
      "Instructions for updating:\n",
      "Call initializer instance with the dtype argument instead of passing it to the constructor\n",
      "W0919 04:56:29.205344 139930111289088 deprecation.py:506] From /root/miniconda3/envs/tf/lib/python3.7/site-packages/tensorflow/python/ops/init_ops.py:97: calling Zeros.__init__ (from tensorflow.python.ops.init_ops) with dtype is deprecated and will be removed in a future version.\n",
      "Instructions for updating:\n",
      "Call initializer instance with the dtype argument instead of passing it to the constructor\n"
     ]
    }
   ],
   "source": [
    "net = models.model_from_json(model_json)\n",
    "net.load_weights(os.path.join(ckpt_root, 'weight.h5'))"
   ]
  },
  {
   "cell_type": "code",
   "execution_count": 10,
   "metadata": {},
   "outputs": [],
   "source": [
    "scan_list = sorted(os.listdir(val_path))[1:]\n",
    "for scan in scan_list:\n",
    "    dante_path = os.path.join(val_path, scan, 'T1SPACE09mmISOPOSTwDANTE')\n",
    "    img_name = [i for i in os.listdir(dante_path) if '.nii' in i and '_rsl' not in i][0]\n",
    "    #print(img_name)\n",
    "    val = nib.load(os.path.join(dante_path, img_name))\n",
    "    val = check_data(val.get_data())\n",
    "    \n",
    "val_in = []\n",
    "cor, sag, axi = val.shape\n",
    "tmp = np.array(np.dsplit(val, axi//6))\n",
    "tmp = tmp.mean(axis=-1)\n",
    "tmp = np.transpose(tmp, [1, 2, 0])\n",
    "\n",
    "#half_top = int(np.floor(tmp.shape[-1]/2))\n",
    "#half_bot = int(np.ceil(tmp.shape[-1]/2))"
   ]
  },
  {
   "cell_type": "code",
   "execution_count": 55,
   "metadata": {},
   "outputs": [
    {
     "name": "stdout",
     "output_type": "stream",
     "text": [
      "0 0 0\n",
      "1 0 128\n",
      "2 128 0\n",
      "3 128 128\n"
     ]
    }
   ],
   "source": [
    "recon = np.zeros(shape=[cor, sag, axi])\n",
    "\n",
    "slice_dict = {\n",
    "    1:[[0, 160], [0, 160], [0, 128], [0, 128]], \n",
    "    2:[[0, 160], [96, 256], [0, 128], [32, 256]], \n",
    "    3:[[96, 256], [0, 160], [32, 256], [0, 128]],\n",
    "    4:[[96, 256], [96, 256], [32, 256], [32, 256]]\n",
    "}\n",
    "test = {}\n",
    "sli = 12\n",
    "i = 0\n",
    "for row in range(2):\n",
    "    row_start = row*128\n",
    "    for col in range(2):\n",
    "        \n",
    "        col_start = col*128\n",
    "        print(i, row_start, col_start)\n",
    "        test[i] = net.predict(tmp[np.newaxis, \n",
    "                                   slice_dict[i+1][0][0]:slice_dict[i+1][0][1],\n",
    "                                   slice_dict[i+1][1][0]:slice_dict[i+1][1][1],\n",
    "                                   :, np.newaxis])\n",
    "        recon[row_start:row_start+128, \n",
    "              col_start:col_start+128] = test[i][0,\n",
    "                                                  slice_dict[i+1][2][0]:slice_dict[i+1][2][1],\n",
    "                                                  slice_dict[i+1][3][0]:slice_dict[i+1][3][1], :, 0]\n",
    "        i += 1\n",
    "# test_3d_2 = net.predict(tmp[np.newaxis, ..., half_top:, np.newaxis])"
   ]
  },
  {
   "cell_type": "code",
   "execution_count": 56,
   "metadata": {},
   "outputs": [],
   "source": [
    "aff = np.eye(4)\n",
    "aff[2, 2]=6\n",
    "\n",
    "nib.save(nib.Nifti1Image(tmp, aff), os.path.join(result_root, 'val_input.nii'))\n",
    "nib.save(nib.Nifti1Image(recon, np.eye(4)), os.path.join(result_root, 'val_pred.nii'))\n",
    "nib.save(nib.Nifti1Image(val, np.eye(4)), os.path.join(result_root, 'val_label.nii'))"
   ]
  }
 ],
 "metadata": {
  "kernelspec": {
   "display_name": "tensorflow",
   "language": "python",
   "name": "tf"
  },
  "language_info": {
   "codemirror_mode": {
    "name": "ipython",
    "version": 3
   },
   "file_extension": ".py",
   "mimetype": "text/x-python",
   "name": "python",
   "nbconvert_exporter": "python",
   "pygments_lexer": "ipython3",
   "version": "3.7.3"
  }
 },
 "nbformat": 4,
 "nbformat_minor": 4
}
