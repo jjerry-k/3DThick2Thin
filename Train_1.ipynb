{
 "cells": [
  {
   "cell_type": "code",
   "execution_count": 1,
   "metadata": {},
   "outputs": [],
   "source": [
    "import os, tqdm, time, random\n",
    "import cv2 as cv\n",
    "import numpy as np\n",
    "import pandas as pd\n",
    "import nibabel as nib\n",
    "import tensorflow as tf\n",
    "from matplotlib import pyplot as plt\n",
    "from tensorflow.keras import models, layers, losses, optimizers\n",
    "\n",
    "from loss import *\n",
    "from utils import *\n",
    "from network import *\n",
    "\n",
    "random.seed(777)\n",
    "tf.set_random_seed(777)\n",
    "np.random.seed(777)"
   ]
  },
  {
   "cell_type": "code",
   "execution_count": 2,
   "metadata": {},
   "outputs": [],
   "source": [
    "root_dir = '../data/for_section/'\n",
    "\n",
    "fold_idx = 1\n",
    "\n",
    "train_path = os.path.join(root_dir, 'for_fold_%d'%fold_idx)\n",
    "\n",
    "val_path = os.path.join(root_dir, 'for_fold_%d_val'%fold_idx)"
   ]
  },
  {
   "cell_type": "code",
   "execution_count": 3,
   "metadata": {},
   "outputs": [],
   "source": [
    "test = data_loader(train_path)"
   ]
  },
  {
   "cell_type": "code",
   "execution_count": 4,
   "metadata": {},
   "outputs": [
    {
     "data": {
      "application/vnd.jupyter.widget-view+json": {
       "model_id": "306733d2b6624c3293c25de790566dd1",
       "version_major": 2,
       "version_minor": 0
      },
      "text/plain": [
       "HBox(children=(IntProgress(value=0, max=14), HTML(value='')))"
      ]
     },
     "metadata": {},
     "output_type": "display_data"
    },
    {
     "name": "stdout",
     "output_type": "stream",
     "text": [
      "\n",
      "(3317, 32, 32, 16, 1)\n",
      "(3317, 32, 32, 96, 1)\n"
     ]
    }
   ],
   "source": [
    "data = []\n",
    "label = []\n",
    "n_size = 32\n",
    "n_slice = 16\n",
    "cs_strides = 16\n",
    "a_strides = 2\n",
    "cnt = 0\n",
    "cor, sag, axi = test.shape\n",
    "#print(test.shape)\n",
    "for idx in tqdm.tqdm_notebook(range(0, cor-n_size, cs_strides)):\n",
    "    for jdx in range(0, sag-n_size, cs_strides):\n",
    "        for kdx in range(0, axi-(n_slice*6), a_strides):\n",
    "            tmp = test[idx:idx+n_size, jdx:jdx+n_size, kdx:kdx+(n_slice*6)]\n",
    "            if tmp.mean() > 225:\n",
    "                label.append(tmp)\n",
    "                tmp = np.array(np.dsplit(tmp, n_slice))\n",
    "                tmp = tmp.mean(axis=-1)\n",
    "                tmp = np.transpose(tmp, [1,2,0])\n",
    "                data.append(tmp)\n",
    "                \n",
    "label = np.array(label)[..., np.newaxis]\n",
    "data = np.array(data)[..., np.newaxis]\n",
    "print(data.shape)\n",
    "print(label.shape)"
   ]
  },
  {
   "cell_type": "code",
   "execution_count": 5,
   "metadata": {},
   "outputs": [
    {
     "name": "stderr",
     "output_type": "stream",
     "text": [
      "WARNING: Logging before flag parsing goes to stderr.\n",
      "W0917 12:32:34.854861 140330720319232 deprecation.py:506] From /root/miniconda3/envs/tf/lib/python3.7/site-packages/tensorflow/python/ops/init_ops.py:1251: calling VarianceScaling.__init__ (from tensorflow.python.ops.init_ops) with dtype is deprecated and will be removed in a future version.\n",
      "Instructions for updating:\n",
      "Call initializer instance with the dtype argument instead of passing it to the constructor\n"
     ]
    }
   ],
   "source": [
    "net = SR3D()"
   ]
  },
  {
   "cell_type": "code",
   "execution_count": 6,
   "metadata": {},
   "outputs": [
    {
     "name": "stdout",
     "output_type": "stream",
     "text": [
      "\n",
      "Make Save Directory!\n",
      "\n",
      "\n",
      "Make Save Directory!\n",
      "\n",
      "\n",
      "Model Saved!\n",
      "\n"
     ]
    }
   ],
   "source": [
    "date = time.ctime().split(' ')\n",
    "\n",
    "ckpt_root = './checkpoint/%s_%02d_%s/DeepSR_msemi_test'%(date[1], int(date[2]), date[-1])\n",
    "result_root = './result/%s_%02d_%s/DeepSR_msemi_test'%(date[1], int(date[2]), date[-1])\n",
    "\n",
    "try:\n",
    "    os.makedirs(ckpt_root)\n",
    "    print(\"\\nMake Save Directory!\\n\")\n",
    "except:\n",
    "    print(\"\\nDirectory Already Exist!\\n\")\n",
    "\n",
    "try:\n",
    "    os.makedirs(result_root)\n",
    "    print(\"\\nMake Save Directory!\\n\")\n",
    "except:\n",
    "    print(\"\\nDirectory Already Exist!\\n\")\n",
    "    \n",
    "\n",
    "model_json = net.to_json()\n",
    "with open(os.path.join(ckpt_root, \"model.json\"), \"w\") as json_file:\n",
    "    json_file.write(model_json)\n",
    "print(\"\\nModel Saved!\\n\")"
   ]
  },
  {
   "cell_type": "code",
   "execution_count": 7,
   "metadata": {},
   "outputs": [
    {
     "name": "stderr",
     "output_type": "stream",
     "text": [
      "W0917 12:32:38.085538 140330720319232 deprecation.py:323] From /root/miniconda3/envs/tf/lib/python3.7/site-packages/tensorflow/python/ops/array_ops.py:1354: add_dispatch_support.<locals>.wrapper (from tensorflow.python.ops.array_ops) is deprecated and will be removed in a future version.\n",
      "Instructions for updating:\n",
      "Use tf.where in 2.0, which has the same broadcast rule as np.where\n"
     ]
    }
   ],
   "source": [
    "net.compile(optimizer=optimizers.Adam(0.0001), loss=mse_mi, metrics=['mse', gradient_3d_loss, mutual_information])"
   ]
  },
  {
   "cell_type": "code",
   "execution_count": 8,
   "metadata": {},
   "outputs": [
    {
     "name": "stdout",
     "output_type": "stream",
     "text": [
      "Epoch 1/100\n",
      "3317/3317 [==============================] - 848s 256ms/sample - loss: 9416.0256 - mean_squared_error: 11551.2559 - gradient_3d_loss: 397791.7188 - mutual_information: -2.1354\n",
      "Epoch 2/100\n",
      "3317/3317 [==============================] - 837s 252ms/sample - loss: 3794.3590 - mean_squared_error: 5939.2129 - gradient_3d_loss: 288384.7188 - mutual_information: -2.1449\n",
      "Epoch 3/100\n",
      "3317/3317 [==============================] - 845s 255ms/sample - loss: 3358.5377 - mean_squared_error: 5510.7329 - gradient_3d_loss: 272810.9688 - mutual_information: -2.1523\n",
      "Epoch 4/100\n",
      "3317/3317 [==============================] - 843s 254ms/sample - loss: 3079.1030 - mean_squared_error: 5233.3286 - gradient_3d_loss: 262454.1250 - mutual_information: -2.1542\n",
      "Epoch 5/100\n",
      "3317/3317 [==============================] - 843s 254ms/sample - loss: 2861.2703 - mean_squared_error: 5017.4307 - gradient_3d_loss: 254644.6094 - mutual_information: -2.1563\n",
      "Epoch 6/100\n",
      "3317/3317 [==============================] - 842s 254ms/sample - loss: 2737.7390 - mean_squared_error: 4895.4932 - gradient_3d_loss: 248715.7188 - mutual_information: -2.1580\n",
      "Epoch 7/100\n",
      "3317/3317 [==============================] - 863s 260ms/sample - loss: 2575.9870 - mean_squared_error: 4736.8193 - gradient_3d_loss: 242071.6562 - mutual_information: -2.1608\n",
      "Epoch 8/100\n",
      "3317/3317 [==============================] - 865s 261ms/sample - loss: 2439.4245 - mean_squared_error: 4601.6807 - gradient_3d_loss: 237256.1719 - mutual_information: -2.1624\n",
      "Epoch 9/100\n",
      "3317/3317 [==============================] - 862s 260ms/sample - loss: 2301.3301 - mean_squared_error: 4465.4385 - gradient_3d_loss: 231723.2656 - mutual_information: -2.1639\n",
      "Epoch 10/100\n",
      "3317/3317 [==============================] - 910s 274ms/sample - loss: 2183.4684 - mean_squared_error: 4349.3691 - gradient_3d_loss: 227242.1875 - mutual_information: -2.1657\n",
      "Epoch 11/100\n",
      "3317/3317 [==============================] - 821s 248ms/sample - loss: 2069.9609 - mean_squared_error: 4239.0830 - gradient_3d_loss: 222994.2344 - mutual_information: -2.1691\n",
      "Epoch 12/100\n",
      "3317/3317 [==============================] - 787s 237ms/sample - loss: 1947.6344 - mean_squared_error: 4119.5356 - gradient_3d_loss: 218725.2344 - mutual_information: -2.1720\n",
      "Epoch 13/100\n",
      "3317/3317 [==============================] - 908s 274ms/sample - loss: 1824.7392 - mean_squared_error: 3996.5017 - gradient_3d_loss: 214175.6094 - mutual_information: -2.1717\n",
      "Epoch 14/100\n",
      "3317/3317 [==============================] - 903s 272ms/sample - loss: 1699.7640 - mean_squared_error: 3872.4600 - gradient_3d_loss: 209878.7500 - mutual_information: -2.1727\n",
      "Epoch 15/100\n",
      "3317/3317 [==============================] - 906s 273ms/sample - loss: 1585.7769 - mean_squared_error: 3761.2139 - gradient_3d_loss: 205715.9062 - mutual_information: -2.1753\n",
      "Epoch 16/100\n",
      "3317/3317 [==============================] - 909s 274ms/sample - loss: 1470.9172 - mean_squared_error: 3647.4243 - gradient_3d_loss: 202575.9062 - mutual_information: -2.1765\n",
      "Epoch 17/100\n",
      "3317/3317 [==============================] - 908s 274ms/sample - loss: 1348.4937 - mean_squared_error: 3526.8938 - gradient_3d_loss: 197514.7812 - mutual_information: -2.1784\n",
      "Epoch 18/100\n",
      "3317/3317 [==============================] - 904s 272ms/sample - loss: 1243.4190 - mean_squared_error: 3423.5991 - gradient_3d_loss: 193257.9375 - mutual_information: -2.1801\n",
      "Epoch 19/100\n",
      "3317/3317 [==============================] - 911s 275ms/sample - loss: 1137.5193 - mean_squared_error: 3318.9756 - gradient_3d_loss: 189564.3438 - mutual_information: -2.1814\n",
      "Epoch 20/100\n",
      "3317/3317 [==============================] - 907s 274ms/sample - loss: 1043.8662 - mean_squared_error: 3226.3945 - gradient_3d_loss: 185843.9062 - mutual_information: -2.1826\n",
      "Epoch 21/100\n",
      "3317/3317 [==============================] - 905s 273ms/sample - loss: 960.9505 - mean_squared_error: 3145.2229 - gradient_3d_loss: 182503.1719 - mutual_information: -2.1841\n",
      "Epoch 22/100\n",
      "3317/3317 [==============================] - 778s 235ms/sample - loss: 864.9732 - mean_squared_error: 3052.4546 - gradient_3d_loss: 179392.9844 - mutual_information: -2.1877\n",
      "Epoch 23/100\n",
      "3317/3317 [==============================] - 771s 233ms/sample - loss: 791.5670 - mean_squared_error: 2980.0662 - gradient_3d_loss: 175639.0781 - mutual_information: -2.1885\n",
      "Epoch 24/100\n",
      "3317/3317 [==============================] - 772s 233ms/sample - loss: 697.5256 - mean_squared_error: 2887.6648 - gradient_3d_loss: 172129.3906 - mutual_information: -2.1902\n",
      "Epoch 25/100\n",
      "3317/3317 [==============================] - 773s 233ms/sample - loss: 626.5565 - mean_squared_error: 2818.0405 - gradient_3d_loss: 169008.6562 - mutual_information: -2.1915\n",
      "Epoch 26/100\n",
      "3317/3317 [==============================] - 773s 233ms/sample - loss: 557.3596 - mean_squared_error: 2749.6633 - gradient_3d_loss: 166170.0312 - mutual_information: -2.1922\n",
      "Epoch 27/100\n",
      "3317/3317 [==============================] - 773s 233ms/sample - loss: 490.7288 - mean_squared_error: 2684.6025 - gradient_3d_loss: 163247.5312 - mutual_information: -2.1939\n",
      "Epoch 28/100\n",
      "3317/3317 [==============================] - 774s 233ms/sample - loss: 419.3883 - mean_squared_error: 2614.8274 - gradient_3d_loss: 160227.8594 - mutual_information: -2.1957\n",
      "Epoch 29/100\n",
      "3317/3317 [==============================] - 774s 233ms/sample - loss: 362.8382 - mean_squared_error: 2559.3174 - gradient_3d_loss: 157561.5625 - mutual_information: -2.1964\n",
      "Epoch 30/100\n",
      "3317/3317 [==============================] - 774s 233ms/sample - loss: 310.7315 - mean_squared_error: 2508.4297 - gradient_3d_loss: 155030.3594 - mutual_information: -2.1976\n",
      "Epoch 31/100\n",
      "3317/3317 [==============================] - 772s 233ms/sample - loss: 245.6092 - mean_squared_error: 2444.3245 - gradient_3d_loss: 152277.1562 - mutual_information: -2.1986\n",
      "Epoch 32/100\n",
      "3317/3317 [==============================] - 772s 233ms/sample - loss: 191.1178 - mean_squared_error: 2391.0867 - gradient_3d_loss: 149762.5312 - mutual_information: -2.1998\n",
      "Epoch 33/100\n",
      "3317/3317 [==============================] - 773s 233ms/sample - loss: 151.8349 - mean_squared_error: 2353.1389 - gradient_3d_loss: 147900.5625 - mutual_information: -2.2014\n",
      "Epoch 34/100\n",
      "3317/3317 [==============================] - 773s 233ms/sample - loss: 96.7556 - mean_squared_error: 2299.6533 - gradient_3d_loss: 145613.2656 - mutual_information: -2.2030\n",
      "Epoch 35/100\n",
      "3317/3317 [==============================] - 773s 233ms/sample - loss: 35.8006 - mean_squared_error: 2240.3320 - gradient_3d_loss: 142740.6562 - mutual_information: -2.2045\n",
      "Epoch 36/100\n",
      "3317/3317 [==============================] - 771s 232ms/sample - loss: -11.8405 - mean_squared_error: 2193.5076 - gradient_3d_loss: 140622.9844 - mutual_information: -2.2055\n",
      "Epoch 37/100\n",
      "3317/3317 [==============================] - 773s 233ms/sample - loss: -31.4583 - mean_squared_error: 2174.8865 - gradient_3d_loss: 139352.7656 - mutual_information: -2.2062\n",
      "Epoch 38/100\n",
      "3317/3317 [==============================] - 773s 233ms/sample - loss: -76.3911 - mean_squared_error: 2131.5447 - gradient_3d_loss: 137128.1250 - mutual_information: -2.2081\n",
      "Epoch 39/100\n",
      "3317/3317 [==============================] - 774s 233ms/sample - loss: -110.2312 - mean_squared_error: 2098.4800 - gradient_3d_loss: 135349.3281 - mutual_information: -2.2088\n",
      "Epoch 40/100\n",
      "3317/3317 [==============================] - 774s 233ms/sample - loss: -175.4741 - mean_squared_error: 2035.3704 - gradient_3d_loss: 132868.2188 - mutual_information: -2.2108\n",
      "Epoch 41/100\n",
      "3317/3317 [==============================] - 773s 233ms/sample - loss: -180.6640 - mean_squared_error: 2030.4890 - gradient_3d_loss: 131830.9062 - mutual_information: -2.2111\n",
      "Epoch 42/100\n",
      "3317/3317 [==============================] - 772s 233ms/sample - loss: -246.4675 - mean_squared_error: 1966.4187 - gradient_3d_loss: 129133.2422 - mutual_information: -2.2130\n",
      "Epoch 43/100\n",
      "3317/3317 [==============================] - 772s 233ms/sample - loss: -267.7108 - mean_squared_error: 1946.2494 - gradient_3d_loss: 127837.9844 - mutual_information: -2.2140\n",
      "Epoch 44/100\n",
      "3317/3317 [==============================] - 772s 233ms/sample - loss: -299.8249 - mean_squared_error: 1915.5050 - gradient_3d_loss: 126366.6094 - mutual_information: -2.2154\n",
      "Epoch 45/100\n",
      "3317/3317 [==============================] - 771s 233ms/sample - loss: -331.2627 - mean_squared_error: 1885.0281 - gradient_3d_loss: 124762.0938 - mutual_information: -2.2164\n",
      "Epoch 46/100\n",
      "3317/3317 [==============================] - 769s 232ms/sample - loss: -371.3093 - mean_squared_error: 1846.3276 - gradient_3d_loss: 122725.4219 - mutual_information: -2.2176\n",
      "Epoch 47/100\n",
      "3317/3317 [==============================] - 769s 232ms/sample - loss: -391.1126 - mean_squared_error: 1827.5753 - gradient_3d_loss: 121620.2812 - mutual_information: -2.2185\n",
      "Epoch 48/100\n",
      "3317/3317 [==============================] - 771s 232ms/sample - loss: -426.2676 - mean_squared_error: 1793.3470 - gradient_3d_loss: 120014.6406 - mutual_information: -2.2196\n",
      "Epoch 49/100\n",
      "3317/3317 [==============================] - 769s 232ms/sample - loss: -426.6915 - mean_squared_error: 1793.3470 - gradient_3d_loss: 119191.7109 - mutual_information: -2.2203\n",
      "Epoch 50/100\n",
      "3317/3317 [==============================] - 770s 232ms/sample - loss: -466.0634 - mean_squared_error: 1755.2806 - gradient_3d_loss: 117772.5703 - mutual_information: -2.2215\n",
      "Epoch 51/100\n",
      "3317/3317 [==============================] - 770s 232ms/sample - loss: -478.3694 - mean_squared_error: 1743.9543 - gradient_3d_loss: 116724.7109 - mutual_information: -2.2223\n",
      "Epoch 52/100\n",
      "3317/3317 [==============================] - 770s 232ms/sample - loss: -531.1367 - mean_squared_error: 1693.1935 - gradient_3d_loss: 114345.6562 - mutual_information: -2.2242\n",
      "Epoch 53/100\n",
      "3317/3317 [==============================] - 771s 233ms/sample - loss: -552.3388 - mean_squared_error: 1672.5443 - gradient_3d_loss: 113137.5078 - mutual_information: -2.2249\n",
      "Epoch 54/100\n",
      "3317/3317 [==============================] - 771s 233ms/sample - loss: -564.5860 - mean_squared_error: 1661.1384 - gradient_3d_loss: 112369.4922 - mutual_information: -2.2256\n",
      "Epoch 55/100\n",
      "3317/3317 [==============================] - 759s 229ms/sample - loss: -586.2319 - mean_squared_error: 1640.8872 - gradient_3d_loss: 111166.3906 - mutual_information: -2.2270\n",
      "Epoch 56/100\n",
      "3317/3317 [==============================] - 728s 219ms/sample - loss: -624.3624 - mean_squared_error: 1604.3639 - gradient_3d_loss: 109573.9844 - mutual_information: -2.2288\n",
      "Epoch 57/100\n",
      "3317/3317 [==============================] - 727s 219ms/sample - loss: -631.5855 - mean_squared_error: 1597.2092 - gradient_3d_loss: 108713.7422 - mutual_information: -2.2290\n",
      "Epoch 58/100\n",
      "3317/3317 [==============================] - 726s 219ms/sample - loss: -638.0897 - mean_squared_error: 1591.7657 - gradient_3d_loss: 108244.4453 - mutual_information: -2.2299\n",
      "Epoch 59/100\n",
      "3317/3317 [==============================] - 726s 219ms/sample - loss: -676.4286 - mean_squared_error: 1554.8781 - gradient_3d_loss: 106555.0391 - mutual_information: -2.2312\n",
      "Epoch 60/100\n",
      "3317/3317 [==============================] - 726s 219ms/sample - loss: -649.4688 - mean_squared_error: 1580.5215 - gradient_3d_loss: 107073.9922 - mutual_information: -2.2301\n",
      "Epoch 61/100\n",
      "3317/3317 [==============================] - 726s 219ms/sample - loss: -727.5560 - mean_squared_error: 1506.6151 - gradient_3d_loss: 104155.1562 - mutual_information: -2.2340\n",
      "Epoch 62/100\n",
      "3317/3317 [==============================] - 726s 219ms/sample - loss: -708.9541 - mean_squared_error: 1524.1470 - gradient_3d_loss: 104615.8750 - mutual_information: -2.2331\n",
      "Epoch 63/100\n",
      "3317/3317 [==============================] - 725s 219ms/sample - loss: -750.8372 - mean_squared_error: 1484.2113 - gradient_3d_loss: 102562.5859 - mutual_information: -2.2348\n",
      "Epoch 64/100\n",
      "3317/3317 [==============================] - 729s 220ms/sample - loss: -753.2071 - mean_squared_error: 1482.7927 - gradient_3d_loss: 102212.8438 - mutual_information: -2.2358\n",
      "Epoch 65/100\n",
      "3317/3317 [==============================] - 746s 225ms/sample - loss: -769.8651 - mean_squared_error: 1467.9906 - gradient_3d_loss: 101219.6250 - mutual_information: -2.2380\n",
      "Epoch 66/100\n",
      "3317/3317 [==============================] - 747s 225ms/sample - loss: -787.1393 - mean_squared_error: 1451.5626 - gradient_3d_loss: 100519.7344 - mutual_information: -2.2386\n",
      "Epoch 67/100\n",
      "3317/3317 [==============================] - 747s 225ms/sample - loss: -813.7605 - mean_squared_error: 1426.1771 - gradient_3d_loss: 99199.0547 - mutual_information: -2.2397\n",
      "Epoch 68/100\n",
      "3317/3317 [==============================] - 786s 237ms/sample - loss: -813.7616 - mean_squared_error: 1426.4960 - gradient_3d_loss: 99097.5312 - mutual_information: -2.2401\n",
      "Epoch 69/100\n",
      "3317/3317 [==============================] - 760s 229ms/sample - loss: -860.4038 - mean_squared_error: 1382.1376 - gradient_3d_loss: 97020.0312 - mutual_information: -2.2426\n",
      "Epoch 70/100\n",
      "3317/3317 [==============================] - 749s 226ms/sample - loss: -862.5978 - mean_squared_error: 1380.2091 - gradient_3d_loss: 96508.6094 - mutual_information: -2.2427\n",
      "Epoch 71/100\n",
      "3317/3317 [==============================] - 749s 226ms/sample - loss: -838.6904 - mean_squared_error: 1402.7313 - gradient_3d_loss: 97218.6094 - mutual_information: -2.2415\n",
      "Epoch 72/100\n",
      "3317/3317 [==============================] - 747s 225ms/sample - loss: -869.2726 - mean_squared_error: 1374.2408 - gradient_3d_loss: 95807.4922 - mutual_information: -2.2436\n",
      "Epoch 73/100\n",
      "3317/3317 [==============================] - 749s 226ms/sample - loss: -907.4993 - mean_squared_error: 1338.0667 - gradient_3d_loss: 94129.9141 - mutual_information: -2.2456\n",
      "Epoch 74/100\n",
      "3317/3317 [==============================] - 729s 220ms/sample - loss: -881.1357 - mean_squared_error: 1363.0895 - gradient_3d_loss: 95081.1562 - mutual_information: -2.2441\n",
      "Epoch 75/100\n",
      "3317/3317 [==============================] - 729s 220ms/sample - loss: -935.8896 - mean_squared_error: 1310.6295 - gradient_3d_loss: 92712.1562 - mutual_information: -2.2464\n",
      "Epoch 76/100\n",
      "3317/3317 [==============================] - 723s 218ms/sample - loss: -892.6342 - mean_squared_error: 1351.8441 - gradient_3d_loss: 94157.2188 - mutual_information: -2.2444\n",
      "Epoch 77/100\n",
      "3317/3317 [==============================] - 727s 219ms/sample - loss: -939.5467 - mean_squared_error: 1307.3049 - gradient_3d_loss: 92011.4141 - mutual_information: -2.2467\n",
      "Epoch 78/100\n",
      "3317/3317 [==============================] - 727s 219ms/sample - loss: -972.5234 - mean_squared_error: 1276.1277 - gradient_3d_loss: 90601.4219 - mutual_information: -2.2487\n",
      "Epoch 79/100\n",
      "3317/3317 [==============================] - 746s 225ms/sample - loss: -952.1613 - mean_squared_error: 1296.6273 - gradient_3d_loss: 91163.9844 - mutual_information: -2.2488\n",
      "Epoch 80/100\n",
      "3317/3317 [==============================] - 749s 226ms/sample - loss: -989.4663 - mean_squared_error: 1261.2869 - gradient_3d_loss: 89521.1797 - mutual_information: -2.2507\n",
      "Epoch 81/100\n",
      "3317/3317 [==============================] - 749s 226ms/sample - loss: -993.1340 - mean_squared_error: 1257.8219 - gradient_3d_loss: 89231.9609 - mutual_information: -2.2508\n",
      "Epoch 82/100\n",
      "3317/3317 [==============================] - 753s 227ms/sample - loss: -966.2216 - mean_squared_error: 1283.6262 - gradient_3d_loss: 90125.8750 - mutual_information: -2.2500\n",
      "Epoch 83/100\n",
      "3317/3317 [==============================] - 752s 227ms/sample - loss: -1013.8643 - mean_squared_error: 1238.5974 - gradient_3d_loss: 88090.2188 - mutual_information: -2.2524\n",
      "Epoch 84/100\n",
      "3317/3317 [==============================] - 752s 227ms/sample - loss: -1028.4038 - mean_squared_error: 1224.8605 - gradient_3d_loss: 87394.0938 - mutual_information: -2.2533\n",
      "Epoch 85/100\n",
      "3317/3317 [==============================] - 752s 227ms/sample - loss: -1038.4859 - mean_squared_error: 1215.8345 - gradient_3d_loss: 86582.9297 - mutual_information: -2.2545\n",
      "Epoch 86/100\n",
      "3317/3317 [==============================] - 754s 227ms/sample - loss: -1006.6342 - mean_squared_error: 1245.5045 - gradient_3d_loss: 87518.7891 - mutual_information: -2.2521\n",
      "Epoch 87/100\n",
      "3317/3317 [==============================] - 767s 231ms/sample - loss: -1067.8412 - mean_squared_error: 1188.6786 - gradient_3d_loss: 85333.8672 - mutual_information: -2.2563\n",
      "Epoch 88/100\n",
      "3317/3317 [==============================] - 811s 244ms/sample - loss: -1050.4421 - mean_squared_error: 1204.9106 - gradient_3d_loss: 85837.4219 - mutual_information: -2.2553\n",
      "Epoch 89/100\n",
      "3317/3317 [==============================] - 793s 239ms/sample - loss: -1071.7983 - mean_squared_error: 1185.9900 - gradient_3d_loss: 84707.7812 - mutual_information: -2.2577\n",
      "Epoch 90/100\n",
      "3317/3317 [==============================] - 767s 231ms/sample - loss: -1064.6126 - mean_squared_error: 1192.0952 - gradient_3d_loss: 84892.5781 - mutual_information: -2.2567\n",
      "Epoch 91/100\n",
      "3317/3317 [==============================] - 759s 229ms/sample - loss: -1105.8940 - mean_squared_error: 1153.2552 - gradient_3d_loss: 83194.9922 - mutual_information: -2.2590\n",
      "Epoch 92/100\n",
      "3317/3317 [==============================] - 791s 238ms/sample - loss: -1095.6457 - mean_squared_error: 1162.7247 - gradient_3d_loss: 83265.7969 - mutual_information: -2.2583\n",
      "Epoch 93/100\n",
      "3317/3317 [==============================] - 821s 247ms/sample - loss: -1096.0419 - mean_squared_error: 1162.0497 - gradient_3d_loss: 83170.0078 - mutual_information: -2.2583\n",
      "Epoch 94/100\n",
      "3317/3317 [==============================] - 807s 243ms/sample - loss: -1087.6491 - mean_squared_error: 1169.8141 - gradient_3d_loss: 83591.9609 - mutual_information: -2.2576\n",
      "Epoch 95/100\n",
      "3317/3317 [==============================] - 804s 242ms/sample - loss: -1109.9677 - mean_squared_error: 1149.2747 - gradient_3d_loss: 82229.8672 - mutual_information: -2.2592\n",
      "Epoch 96/100\n",
      "3317/3317 [==============================] - 779s 235ms/sample - loss: -1120.4497 - mean_squared_error: 1139.6720 - gradient_3d_loss: 81889.6250 - mutual_information: -2.2600\n",
      "Epoch 97/100\n",
      "3317/3317 [==============================] - 752s 227ms/sample - loss: -1154.6551 - mean_squared_error: 1107.2875 - gradient_3d_loss: 80325.3125 - mutual_information: -2.2622\n",
      "Epoch 98/100\n",
      "3317/3317 [==============================] - 797s 240ms/sample - loss: -1160.5649 - mean_squared_error: 1101.8115 - gradient_3d_loss: 79905.3594 - mutual_information: -2.2623\n",
      "Epoch 99/100\n",
      "3317/3317 [==============================] - 843s 254ms/sample - loss: -1163.1701 - mean_squared_error: 1099.2018 - gradient_3d_loss: 79577.2734 - mutual_information: -2.2622\n",
      "Epoch 100/100\n",
      "3317/3317 [==============================] - 836s 252ms/sample - loss: -1170.0687 - mean_squared_error: 1092.4921 - gradient_3d_loss: 79326.6719 - mutual_information: -2.2626\n"
     ]
    }
   ],
   "source": [
    "history = net.fit(data, label, batch_size=16, epochs=100)\n",
    "\n",
    "\n",
    "net.save_weights(os.path.join(ckpt_root, 'weight.h5'))\n",
    "\n",
    "df = pd.DataFrame(history.history)\n",
    "df.to_csv(os.path.join(result_root, 'loss.csv'))"
   ]
  },
  {
   "cell_type": "code",
   "execution_count": 9,
   "metadata": {},
   "outputs": [],
   "source": [
    "scan_list = sorted(os.listdir(val_path))[1:]\n",
    "for scan in scan_list:\n",
    "    dante_path = os.path.join(val_path, scan, 'T1SPACE09mmISOPOSTwDANTE')\n",
    "    img_name = [i for i in os.listdir(dante_path) if '.nii' in i and '_rsl' not in i][0]\n",
    "    #print(img_name)\n",
    "    val = nib.load(os.path.join(dante_path, img_name))\n",
    "    val = check_data(val.get_data())\n",
    "    \n",
    "val_in = []\n",
    "cor, sag, axi = val.shape\n",
    "tmp = np.array(np.dsplit(val, axi//6))\n",
    "tmp = tmp.mean(axis=-1)\n",
    "tmp = np.transpose(tmp, [1, 2, 0])\n",
    "\n",
    "half_top = int(np.floor(tmp.shape[-1]/2))\n",
    "#half_bot = int(np.ceil(tmp.shape[-1]/2))"
   ]
  },
  {
   "cell_type": "code",
   "execution_count": 10,
   "metadata": {},
   "outputs": [
    {
     "name": "stdout",
     "output_type": "stream",
     "text": [
      "0\n",
      "12\n"
     ]
    }
   ],
   "source": [
    "recon = np.zeros(shape=[cor, sag, axi])\n",
    "\n",
    "test = {}\n",
    "sli = 12\n",
    "for i in range(0, tmp.shape[-1], sli):\n",
    "    print(i)\n",
    "    test['test_3d_%d'%i] = net.predict(tmp[np.newaxis, ..., i:i+sli, np.newaxis])\n",
    "    recon[..., i*6:(i+sli)*6] = test['test_3d_%d'%i][0, ..., 0]\n",
    "# test_3d_2 = net.predict(tmp[np.newaxis, ..., half_top:, np.newaxis])"
   ]
  },
  {
   "cell_type": "code",
   "execution_count": 11,
   "metadata": {},
   "outputs": [],
   "source": [
    "aff = np.eye(4)\n",
    "aff[2, 2]=6\n",
    "\n",
    "nib.save(nib.Nifti1Image(tmp, aff), os.path.join(result_root, 'val_input.nii'))\n",
    "nib.save(nib.Nifti1Image(recon, np.eye(4)), os.path.join(result_root, 'val_pred.nii'))\n",
    "nib.save(nib.Nifti1Image(val, np.eye(4)), os.path.join(result_root, 'val_label.nii'))"
   ]
  }
 ],
 "metadata": {
  "kernelspec": {
   "display_name": "tensorflow",
   "language": "python",
   "name": "tf"
  },
  "language_info": {
   "codemirror_mode": {
    "name": "ipython",
    "version": 3
   },
   "file_extension": ".py",
   "mimetype": "text/x-python",
   "name": "python",
   "nbconvert_exporter": "python",
   "pygments_lexer": "ipython3",
   "version": "3.7.3"
  }
 },
 "nbformat": 4,
 "nbformat_minor": 4
}
