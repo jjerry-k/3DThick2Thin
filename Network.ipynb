{
 "cells": [
  {
   "cell_type": "code",
   "execution_count": 1,
   "metadata": {},
   "outputs": [],
   "source": [
    "from tensorflow.keras import models, layers"
   ]
  },
  {
   "cell_type": "code",
   "execution_count": 6,
   "metadata": {},
   "outputs": [],
   "source": [
    "def conv_3d_block(input_layer, n_filter, ksize, padding='same', activation='relu', name='block'):\n",
    "    output = layers.Conv3D(n_filter, ksize, padding=padding, name=name+'_conv')(input_layer)\n",
    "    if activation=='leaky_relu':\n",
    "        output = layers.LeakyReLU(0.01, name=name+'_act')(output)\n",
    "    else:\n",
    "        output = layers.Activation('relu', name=name+'_act')(output)\n",
    "    return output\n",
    "\n",
    "def upconv_3d_block(input_layer, n_filter, ksize, strides, padding='same', activation='relu', name='block'):\n",
    "    output = layers.Conv3DTranspose(n_filter, ksize, strides, padding=padding, name=name+'_conv')(input_layer)\n",
    "    if activation=='leaky_relu':\n",
    "        output = layers.LeakyReLU(0.01, name=name+'_act')(output)\n",
    "    else:\n",
    "        output = layers.Activation('relu', name=name+'_act')(output)\n",
    "    return output\n",
    "\n",
    "def SR3D(input_shape=(None, None, None, 1), layer_activation='relu', last_activation='linear', name='3D_SR'):\n",
    "    \n",
    "    '''\n",
    "    input_shape : (Cor, Sag, Axi)\n",
    "    '''\n",
    "    \n",
    "    input_layer = layers.Input(input_shape, name=name+'_input')\n",
    "    \n",
    "    en1 = conv_3d_block(input_layer, 64, 3, activation=layer_activation, name=name+'_en1')\n",
    "    \n",
    "    for_concat = layers.UpSampling3D(size=(1,1,6), name=name+'_up_en1')(en1)\n",
    "    \n",
    "    en2 = conv_3d_block(en1, 128, 3, activation=layer_activation, name=name+'_en2')\n",
    "    \n",
    "    en3 = conv_3d_block(en2, 256, 3, activation=layer_activation, name=name+'_en3')\n",
    "    \n",
    "    en4 = conv_3d_block(en3, 512, 3, activation=layer_activation, name=name+'_en4')\n",
    "    \n",
    "    up = upconv_3d_block(en4, 64, (1, 1, 6), strides=(1, 1, 6), padding='same', \n",
    "                         activation=layer_activation, name=name+'_up')\n",
    "    concat = layers.Concatenate(axis=-1, name=name+'_concat')([for_concat, up])\n",
    "    \n",
    "    output = conv_3d_block(concat, 1, 1, activation=last_activation, name=name+'_output')\n",
    "    \n",
    "    return models.Model(inputs=input_layer, outputs=output, name=name)"
   ]
  }
 ],
 "metadata": {
  "kernelspec": {
   "display_name": "tensorflow",
   "language": "python",
   "name": "tf"
  },
  "language_info": {
   "codemirror_mode": {
    "name": "ipython",
    "version": 3
   },
   "file_extension": ".py",
   "mimetype": "text/x-python",
   "name": "python",
   "nbconvert_exporter": "python",
   "pygments_lexer": "ipython3",
   "version": "3.7.3"
  }
 },
 "nbformat": 4,
 "nbformat_minor": 4
}
