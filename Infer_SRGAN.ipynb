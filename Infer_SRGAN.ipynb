{
 "cells": [
  {
   "cell_type": "code",
   "execution_count": 1,
   "metadata": {},
   "outputs": [],
   "source": [
    "import os, tqdm, time, random\n",
    "import cv2 as cv\n",
    "import numpy as np\n",
    "import pandas as pd\n",
    "import nibabel as nib\n",
    "import tensorflow as tf\n",
    "from matplotlib import pyplot as plt\n",
    "from tensorflow.keras import models, layers, losses, optimizers\n",
    "\n",
    "from loss import *\n",
    "from utils import *\n",
    "from network import *\n",
    "\n",
    "random.seed(777)\n",
    "tf.set_random_seed(777)\n",
    "np.random.seed(777)"
   ]
  },
  {
   "cell_type": "code",
   "execution_count": 2,
   "metadata": {},
   "outputs": [],
   "source": [
    "root_dir = '../data/for_section/'\n",
    "\n",
    "fold_idx = 1\n",
    "\n",
    "train_path = os.path.join(root_dir, 'for_fold_%d'%fold_idx)\n",
    "\n",
    "val_path = os.path.join(root_dir, 'for_fold_%d_val'%fold_idx)"
   ]
  },
  {
   "cell_type": "code",
   "execution_count": 24,
   "metadata": {},
   "outputs": [
    {
     "name": "stdout",
     "output_type": "stream",
     "text": [
      "['.ipynb_checkpoints', '20190916_3DSR.h5', 'Sep_16_2019', 'Sep_17_2019', 'Sep_19_2019', 'Sep_22_2019', 'Sep_23_2019', 'Sep_27_2019', 'Sep_30_2019']\n"
     ]
    },
    {
     "name": "stdin",
     "output_type": "stream",
     "text": [
      "Please Select ckpt 4\n"
     ]
    },
    {
     "name": "stdout",
     "output_type": "stream",
     "text": [
      "['DeepSR_msegrad_test', 'RBSR64_msegrad_test', 'RBSRGAN64_mse_test']\n"
     ]
    },
    {
     "ename": "KeyboardInterrupt",
     "evalue": "",
     "output_type": "error",
     "traceback": [
      "\u001b[0;31m---------------------------------------------------------------------------\u001b[0m",
      "\u001b[0;31mKeyboardInterrupt\u001b[0m                         Traceback (most recent call last)",
      "\u001b[0;32m~/miniconda3/envs/tf/lib/python3.7/site-packages/ipykernel/kernelbase.py\u001b[0m in \u001b[0;36m_input_request\u001b[0;34m(self, prompt, ident, parent, password)\u001b[0m\n\u001b[1;32m    884\u001b[0m             \u001b[0;32mtry\u001b[0m\u001b[0;34m:\u001b[0m\u001b[0;34m\u001b[0m\u001b[0;34m\u001b[0m\u001b[0m\n\u001b[0;32m--> 885\u001b[0;31m                 \u001b[0mident\u001b[0m\u001b[0;34m,\u001b[0m \u001b[0mreply\u001b[0m \u001b[0;34m=\u001b[0m \u001b[0mself\u001b[0m\u001b[0;34m.\u001b[0m\u001b[0msession\u001b[0m\u001b[0;34m.\u001b[0m\u001b[0mrecv\u001b[0m\u001b[0;34m(\u001b[0m\u001b[0mself\u001b[0m\u001b[0;34m.\u001b[0m\u001b[0mstdin_socket\u001b[0m\u001b[0;34m,\u001b[0m \u001b[0;36m0\u001b[0m\u001b[0;34m)\u001b[0m\u001b[0;34m\u001b[0m\u001b[0;34m\u001b[0m\u001b[0m\n\u001b[0m\u001b[1;32m    886\u001b[0m             \u001b[0;32mexcept\u001b[0m \u001b[0mException\u001b[0m\u001b[0;34m:\u001b[0m\u001b[0;34m\u001b[0m\u001b[0;34m\u001b[0m\u001b[0m\n",
      "\u001b[0;32m~/miniconda3/envs/tf/lib/python3.7/site-packages/jupyter_client/session.py\u001b[0m in \u001b[0;36mrecv\u001b[0;34m(self, socket, mode, content, copy)\u001b[0m\n\u001b[1;32m    802\u001b[0m         \u001b[0;32mtry\u001b[0m\u001b[0;34m:\u001b[0m\u001b[0;34m\u001b[0m\u001b[0;34m\u001b[0m\u001b[0m\n\u001b[0;32m--> 803\u001b[0;31m             \u001b[0mmsg_list\u001b[0m \u001b[0;34m=\u001b[0m \u001b[0msocket\u001b[0m\u001b[0;34m.\u001b[0m\u001b[0mrecv_multipart\u001b[0m\u001b[0;34m(\u001b[0m\u001b[0mmode\u001b[0m\u001b[0;34m,\u001b[0m \u001b[0mcopy\u001b[0m\u001b[0;34m=\u001b[0m\u001b[0mcopy\u001b[0m\u001b[0;34m)\u001b[0m\u001b[0;34m\u001b[0m\u001b[0;34m\u001b[0m\u001b[0m\n\u001b[0m\u001b[1;32m    804\u001b[0m         \u001b[0;32mexcept\u001b[0m \u001b[0mzmq\u001b[0m\u001b[0;34m.\u001b[0m\u001b[0mZMQError\u001b[0m \u001b[0;32mas\u001b[0m \u001b[0me\u001b[0m\u001b[0;34m:\u001b[0m\u001b[0;34m\u001b[0m\u001b[0;34m\u001b[0m\u001b[0m\n",
      "\u001b[0;32m~/miniconda3/envs/tf/lib/python3.7/site-packages/zmq/sugar/socket.py\u001b[0m in \u001b[0;36mrecv_multipart\u001b[0;34m(self, flags, copy, track)\u001b[0m\n\u001b[1;32m    469\u001b[0m         \"\"\"\n\u001b[0;32m--> 470\u001b[0;31m         \u001b[0mparts\u001b[0m \u001b[0;34m=\u001b[0m \u001b[0;34m[\u001b[0m\u001b[0mself\u001b[0m\u001b[0;34m.\u001b[0m\u001b[0mrecv\u001b[0m\u001b[0;34m(\u001b[0m\u001b[0mflags\u001b[0m\u001b[0;34m,\u001b[0m \u001b[0mcopy\u001b[0m\u001b[0;34m=\u001b[0m\u001b[0mcopy\u001b[0m\u001b[0;34m,\u001b[0m \u001b[0mtrack\u001b[0m\u001b[0;34m=\u001b[0m\u001b[0mtrack\u001b[0m\u001b[0;34m)\u001b[0m\u001b[0;34m]\u001b[0m\u001b[0;34m\u001b[0m\u001b[0;34m\u001b[0m\u001b[0m\n\u001b[0m\u001b[1;32m    471\u001b[0m         \u001b[0;31m# have first part already, only loop while more to receive\u001b[0m\u001b[0;34m\u001b[0m\u001b[0;34m\u001b[0m\u001b[0;34m\u001b[0m\u001b[0m\n",
      "\u001b[0;32mzmq/backend/cython/socket.pyx\u001b[0m in \u001b[0;36mzmq.backend.cython.socket.Socket.recv\u001b[0;34m()\u001b[0m\n",
      "\u001b[0;32mzmq/backend/cython/socket.pyx\u001b[0m in \u001b[0;36mzmq.backend.cython.socket.Socket.recv\u001b[0;34m()\u001b[0m\n",
      "\u001b[0;32mzmq/backend/cython/socket.pyx\u001b[0m in \u001b[0;36mzmq.backend.cython.socket._recv_copy\u001b[0;34m()\u001b[0m\n",
      "\u001b[0;32m~/miniconda3/envs/tf/lib/python3.7/site-packages/zmq/backend/cython/checkrc.pxd\u001b[0m in \u001b[0;36mzmq.backend.cython.checkrc._check_rc\u001b[0;34m()\u001b[0m\n",
      "\u001b[0;31mKeyboardInterrupt\u001b[0m: ",
      "\nDuring handling of the above exception, another exception occurred:\n",
      "\u001b[0;31mKeyboardInterrupt\u001b[0m                         Traceback (most recent call last)",
      "\u001b[0;32m<ipython-input-24-a58b63a61b67>\u001b[0m in \u001b[0;36m<module>\u001b[0;34m\u001b[0m\n\u001b[1;32m      6\u001b[0m \u001b[0mprint\u001b[0m\u001b[0;34m(\u001b[0m\u001b[0mckpt_lists\u001b[0m\u001b[0;34m)\u001b[0m\u001b[0;34m\u001b[0m\u001b[0;34m\u001b[0m\u001b[0m\n\u001b[1;32m      7\u001b[0m \u001b[0;34m\u001b[0m\u001b[0m\n\u001b[0;32m----> 8\u001b[0;31m \u001b[0mselected_ckpt_idx\u001b[0m \u001b[0;34m=\u001b[0m \u001b[0mint\u001b[0m\u001b[0;34m(\u001b[0m\u001b[0minput\u001b[0m\u001b[0;34m(\u001b[0m\u001b[0;34m\"Please Select ckpt\"\u001b[0m\u001b[0;34m)\u001b[0m\u001b[0;34m)\u001b[0m\u001b[0;34m\u001b[0m\u001b[0;34m\u001b[0m\u001b[0m\n\u001b[0m\u001b[1;32m      9\u001b[0m \u001b[0;34m\u001b[0m\u001b[0m\n\u001b[1;32m     10\u001b[0m \u001b[0mckpt_root\u001b[0m \u001b[0;34m=\u001b[0m \u001b[0;34m'./checkpoint/%s/%s'\u001b[0m\u001b[0;34m%\u001b[0m\u001b[0;34m(\u001b[0m\u001b[0mdate_lists\u001b[0m\u001b[0;34m[\u001b[0m\u001b[0mselected_date_idx\u001b[0m\u001b[0;34m]\u001b[0m\u001b[0;34m,\u001b[0m \u001b[0mckpt_lists\u001b[0m\u001b[0;34m[\u001b[0m\u001b[0mselected_idx\u001b[0m\u001b[0;34m]\u001b[0m\u001b[0;34m)\u001b[0m\u001b[0;34m\u001b[0m\u001b[0;34m\u001b[0m\u001b[0m\n",
      "\u001b[0;32m~/miniconda3/envs/tf/lib/python3.7/site-packages/ipykernel/kernelbase.py\u001b[0m in \u001b[0;36mraw_input\u001b[0;34m(self, prompt)\u001b[0m\n\u001b[1;32m    858\u001b[0m             \u001b[0mself\u001b[0m\u001b[0;34m.\u001b[0m\u001b[0m_parent_ident\u001b[0m\u001b[0;34m,\u001b[0m\u001b[0;34m\u001b[0m\u001b[0;34m\u001b[0m\u001b[0m\n\u001b[1;32m    859\u001b[0m             \u001b[0mself\u001b[0m\u001b[0;34m.\u001b[0m\u001b[0m_parent_header\u001b[0m\u001b[0;34m,\u001b[0m\u001b[0;34m\u001b[0m\u001b[0;34m\u001b[0m\u001b[0m\n\u001b[0;32m--> 860\u001b[0;31m             \u001b[0mpassword\u001b[0m\u001b[0;34m=\u001b[0m\u001b[0;32mFalse\u001b[0m\u001b[0;34m,\u001b[0m\u001b[0;34m\u001b[0m\u001b[0;34m\u001b[0m\u001b[0m\n\u001b[0m\u001b[1;32m    861\u001b[0m         )\n\u001b[1;32m    862\u001b[0m \u001b[0;34m\u001b[0m\u001b[0m\n",
      "\u001b[0;32m~/miniconda3/envs/tf/lib/python3.7/site-packages/ipykernel/kernelbase.py\u001b[0m in \u001b[0;36m_input_request\u001b[0;34m(self, prompt, ident, parent, password)\u001b[0m\n\u001b[1;32m    888\u001b[0m             \u001b[0;32mexcept\u001b[0m \u001b[0mKeyboardInterrupt\u001b[0m\u001b[0;34m:\u001b[0m\u001b[0;34m\u001b[0m\u001b[0;34m\u001b[0m\u001b[0m\n\u001b[1;32m    889\u001b[0m                 \u001b[0;31m# re-raise KeyboardInterrupt, to truncate traceback\u001b[0m\u001b[0;34m\u001b[0m\u001b[0;34m\u001b[0m\u001b[0;34m\u001b[0m\u001b[0m\n\u001b[0;32m--> 890\u001b[0;31m                 \u001b[0;32mraise\u001b[0m \u001b[0mKeyboardInterrupt\u001b[0m\u001b[0;34m\u001b[0m\u001b[0;34m\u001b[0m\u001b[0m\n\u001b[0m\u001b[1;32m    891\u001b[0m             \u001b[0;32melse\u001b[0m\u001b[0;34m:\u001b[0m\u001b[0;34m\u001b[0m\u001b[0;34m\u001b[0m\u001b[0m\n\u001b[1;32m    892\u001b[0m                 \u001b[0;32mbreak\u001b[0m\u001b[0;34m\u001b[0m\u001b[0;34m\u001b[0m\u001b[0m\n",
      "\u001b[0;31mKeyboardInterrupt\u001b[0m: "
     ]
    }
   ],
   "source": [
    "date_lists = sorted(os.listdir('./checkpoint/'))\n",
    "print(date_lists)\n",
    "selected_date_idx = int(input(\"Please Select ckpt\"))\n",
    "\n",
    "ckpt_lists = sorted(os.listdir('./checkpoint/'+date_lists[selected_date_idx]))\n",
    "print(ckpt_lists)\n",
    "\n",
    "selected_ckpt_idx = int(input(\"Please Select ckpt\"))\n",
    "\n",
    "ckpt_root = './checkpoint/%s/%s'%(date_lists[selected_date_idx], ckpt_lists[selected_idx])\n",
    "result_root = './result/%s/%s'%(date_lists[selected_date_idx], ckpt_lists[selected_idx])\n",
    "\n",
    "print(ckpt_root)\n",
    "print(result_root)\n",
    "   \n",
    "weights_lists = [i for i in sorted(os.listdir(ckpt_root)) if '.h5' in i]\n",
    "\n",
    "with open(os.path.join(ckpt_root, \"model.json\"), \"r\") as json_file:\n",
    "    model_json = json_file.read()\n",
    "\n",
    "G = models.model_from_json(model_json)    \n",
    "G.load_weights(os.path.join(ckpt_root, weights_lists[-1]))\n",
    "G = models.Model(inputs = G.input, outputs = G.outputs[0])\n",
    "print(\"\\nModel Loaded!\\n\")"
   ]
  },
  {
   "cell_type": "code",
   "execution_count": 20,
   "metadata": {},
   "outputs": [
    {
     "name": "stdout",
     "output_type": "stream",
     "text": [
      "0 0 0\n",
      "1 0 128\n",
      "2 128 0\n",
      "3 128 128\n"
     ]
    }
   ],
   "source": [
    "# For Gil\n",
    "scan_list = sorted(os.listdir(val_path))[1:]\n",
    "for scan in scan_list:\n",
    "    dante_path = os.path.join(val_path, scan, 'T1SPACE09mmISOPOSTwDANTE')\n",
    "    img_name = [i for i in os.listdir(dante_path) if '.nii' in i and '_rsl' not in i][0]\n",
    "    #print(img_name)\n",
    "    val = nib.load(os.path.join(dante_path, img_name))\n",
    "    val = check_data(val.get_data())\n",
    "    \n",
    "test_in = []\n",
    "cor, sag, axi = val.shape\n",
    "tmp = np.array(np.dsplit(val, axi//6))\n",
    "tmp = tmp.mean(axis=-1)\n",
    "tmp = np.transpose(tmp, [1, 2, 0])\n",
    "\n",
    "#half_top = int(np.floor(tmp.shape[-1]/2))\n",
    "#half_bot = int(np.ceil(tmp.shape[-1]/2))\n",
    "\n",
    "recon = np.zeros(shape=[cor, sag, axi])\n",
    "\n",
    "slice_dict = {\n",
    "    1:[[0, 160], [0, 160], [0, 128], [0, 128]], \n",
    "    2:[[0, 160], [96, 256], [0, 128], [32, 256]], \n",
    "    3:[[96, 256], [0, 160], [32, 256], [0, 128]],\n",
    "    4:[[96, 256], [96, 256], [32, 256], [32, 256]]\n",
    "}\n",
    "test = {}\n",
    "sli = 12\n",
    "i = 0\n",
    "for row in range(2):\n",
    "    row_start = row*128\n",
    "    for col in range(2):\n",
    "        \n",
    "        col_start = col*128\n",
    "        print(i, row_start, col_start)\n",
    "        test[i] = G.predict(tmp[np.newaxis, \n",
    "                                   slice_dict[i+1][0][0]:slice_dict[i+1][0][1],\n",
    "                                   slice_dict[i+1][1][0]:slice_dict[i+1][1][1],\n",
    "                                   :, np.newaxis])\n",
    "        recon[row_start:row_start+128, \n",
    "              col_start:col_start+128] = test[i][0,\n",
    "                                                  slice_dict[i+1][2][0]:slice_dict[i+1][2][1],\n",
    "                                                  slice_dict[i+1][3][0]:slice_dict[i+1][3][1], :, 0]\n",
    "        i += 1\n",
    "# test_3d_2 = net.predict(tmp[np.newaxis, ..., half_top:, np.newaxis])\n",
    "\n",
    "aff = np.eye(4)\n",
    "aff[2, 2]=6\n",
    "\n",
    "nib.save(nib.Nifti1Image(tmp, aff), os.path.join(result_root, 'val_input.nii'))\n",
    "nib.save(nib.Nifti1Image(recon, np.eye(4)), os.path.join(result_root, 'val_pred.nii'))\n",
    "nib.save(nib.Nifti1Image(val, np.eye(4)), os.path.join(result_root, 'val_label.nii'))"
   ]
  },
  {
   "cell_type": "code",
   "execution_count": 9,
   "metadata": {},
   "outputs": [],
   "source": [
    "scan_list = sorted(os.listdir(val_path))[1:]\n",
    "for scan in scan_list:\n",
    "    dante_path = os.path.join(val_path, scan, 'T1SPACE09mmISOPOSTwDANTE')\n",
    "    img_name = [i for i in os.listdir(dante_path) if '.nii' in i and '_rsl' not in i][0]\n",
    "    #print(img_name)\n",
    "    val = nib.load(os.path.join(dante_path, img_name))\n",
    "    val = check_data(val.get_data())\n",
    "    \n",
    "val_in = []\n",
    "cor, sag, axi = val.shape\n",
    "tmp = np.array(np.dsplit(val, axi//6))\n",
    "tmp = tmp.mean(axis=-1)\n",
    "tmp = np.transpose(tmp, [1, 2, 0])\n",
    "\n",
    "#half_top = int(np.floor(tmp.shape[-1]/2))\n",
    "#half_bot = int(np.ceil(tmp.shape[-1]/2))"
   ]
  },
  {
   "cell_type": "code",
   "execution_count": 10,
   "metadata": {},
   "outputs": [
    {
     "name": "stdout",
     "output_type": "stream",
     "text": [
      "0\n",
      "12\n"
     ]
    }
   ],
   "source": [
    "recon = np.zeros(shape=[cor, sag, axi])\n",
    "\n",
    "test = {}\n",
    "sli = 12\n",
    "for i in range(0, tmp.shape[-1], sli):\n",
    "    print(i)\n",
    "    test['test_3d_%d'%i] = net.predict(tmp[np.newaxis, ..., i:i+sli, np.newaxis])\n",
    "    recon[..., i*6:(i+sli)*6] = test['test_3d_%d'%i][0, ..., 0]\n",
    "# test_3d_2 = net.predict(tmp[np.newaxis, ..., half_top:, np.newaxis])"
   ]
  },
  {
   "cell_type": "code",
   "execution_count": 11,
   "metadata": {},
   "outputs": [],
   "source": [
    "aff = np.eye(4)\n",
    "aff[2, 2]=6\n",
    "\n",
    "nib.save(nib.Nifti1Image(tmp, aff), os.path.join(result_root, 'val_input.nii'))\n",
    "nib.save(nib.Nifti1Image(recon, np.eye(4)), os.path.join(result_root, 'val_pred.nii'))\n",
    "nib.save(nib.Nifti1Image(val, np.eye(4)), os.path.join(result_root, 'val_label.nii'))"
   ]
  }
 ],
 "metadata": {
  "kernelspec": {
   "display_name": "tensorflow",
   "language": "python",
   "name": "tf"
  },
  "language_info": {
   "codemirror_mode": {
    "name": "ipython",
    "version": 3
   },
   "file_extension": ".py",
   "mimetype": "text/x-python",
   "name": "python",
   "nbconvert_exporter": "python",
   "pygments_lexer": "ipython3",
   "version": "3.7.3"
  }
 },
 "nbformat": 4,
 "nbformat_minor": 4
}
